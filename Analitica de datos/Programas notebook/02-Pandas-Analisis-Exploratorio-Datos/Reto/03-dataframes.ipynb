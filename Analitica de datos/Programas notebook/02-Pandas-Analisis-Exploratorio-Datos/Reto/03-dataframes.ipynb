{
 "cells": [
  {
   "cell_type": "markdown",
   "metadata": {},
   "source": [
    "## Reto 3: DataFrames\n",
    "\n",
    "### 1. Objetivos:\n",
    "    - Aprender a crear `DataFrames` e indexar por columna y por fila\n",
    " \n",
    "---\n",
    "    \n",
    "### 2. Desarrollo:"
   ]
  },
  {
   "cell_type": "markdown",
   "metadata": {},
   "source": [
    "#### a) Creación e indexación de `DataFrames`\n",
    "\n",
    "Eres el Data Wrangler (procesador de datos) de EyePoker Inc. Tienes el siguiente diccionario con datos que se refieren a diferentes productos que vende la empresa. Este es tu conjunto de datos y el índice que le corresponde:"
   ]
  },
  {
   "cell_type": "code",
   "execution_count": 3,
   "metadata": {},
   "outputs": [],
   "source": [
    "datos_productos = {\n",
    "    \"nombre\": [\"Pokemaster\", \"Cegatron\", \"Pikame Mucho\", \"Lazarillo de Tormes\", \"Stevie Wonder\", \"Needle\", \"El AyMeDuele\"],\n",
    "    \"precio\": [10000, 5500, 3500, 750, 15500, 12250, 23000],\n",
    "    \"peso\": [1.2, 1.5, 2.3, 5.5, 3.4, 2.4, 8.8],\n",
    "    \"capacidad de destrucción retinal\": [3, 7, 6, 8, 9, 2, 10],\n",
    "    \"disponible\": [True, False, True, True, False, False, True]\n",
    "}\n",
    "\n",
    "indice = [1, 2, 3, 4, 5, 6, 7]\n"
   ]
  },
  {
   "cell_type": "markdown",
   "metadata": {},
   "source": [
    "El Analista de Datos de la empresa quiere realizar algunas visualizaciones con este conjunto de datos, pero no es muy buen procesador de datos, así que te pide a ti ayuda para crear los subconjuntos de datos que necesita para sus visualizaciones.\n",
    "\n",
    "Te ha dado las descripciones de los subconjuntos que necesita, en el orden en el que los quiere.\n",
    "\n",
    "Tu primer paso es convertir tu `diccionario` a `DataFrame` usando `datos_productos` e `indice`:"
   ]
  },
  {
   "cell_type": "code",
   "execution_count": 2,
   "metadata": {},
   "outputs": [],
   "source": [
    "## Realiza aquí los imports que necesites\n",
    "import pandas as pd \n"
   ]
  },
  {
   "cell_type": "code",
   "execution_count": 4,
   "metadata": {},
   "outputs": [],
   "source": [
    "df_productos = pd.DataFrame(datos_productos, index=indice)\n",
    "\n"
   ]
  },
  {
   "cell_type": "code",
   "execution_count": 5,
   "metadata": {},
   "outputs": [
    {
     "data": {
      "text/html": [
       "<div>\n",
       "<style scoped>\n",
       "    .dataframe tbody tr th:only-of-type {\n",
       "        vertical-align: middle;\n",
       "    }\n",
       "\n",
       "    .dataframe tbody tr th {\n",
       "        vertical-align: top;\n",
       "    }\n",
       "\n",
       "    .dataframe thead th {\n",
       "        text-align: right;\n",
       "    }\n",
       "</style>\n",
       "<table border=\"1\" class=\"dataframe\">\n",
       "  <thead>\n",
       "    <tr style=\"text-align: right;\">\n",
       "      <th></th>\n",
       "      <th>nombre</th>\n",
       "      <th>precio</th>\n",
       "      <th>peso</th>\n",
       "      <th>capacidad de destrucción retinal</th>\n",
       "      <th>disponible</th>\n",
       "    </tr>\n",
       "  </thead>\n",
       "  <tbody>\n",
       "    <tr>\n",
       "      <th>1</th>\n",
       "      <td>Pokemaster</td>\n",
       "      <td>10000</td>\n",
       "      <td>1.2</td>\n",
       "      <td>3</td>\n",
       "      <td>True</td>\n",
       "    </tr>\n",
       "    <tr>\n",
       "      <th>2</th>\n",
       "      <td>Cegatron</td>\n",
       "      <td>5500</td>\n",
       "      <td>1.5</td>\n",
       "      <td>7</td>\n",
       "      <td>False</td>\n",
       "    </tr>\n",
       "    <tr>\n",
       "      <th>3</th>\n",
       "      <td>Pikame Mucho</td>\n",
       "      <td>3500</td>\n",
       "      <td>2.3</td>\n",
       "      <td>6</td>\n",
       "      <td>True</td>\n",
       "    </tr>\n",
       "    <tr>\n",
       "      <th>4</th>\n",
       "      <td>Lazarillo de Tormes</td>\n",
       "      <td>750</td>\n",
       "      <td>5.5</td>\n",
       "      <td>8</td>\n",
       "      <td>True</td>\n",
       "    </tr>\n",
       "    <tr>\n",
       "      <th>5</th>\n",
       "      <td>Stevie Wonder</td>\n",
       "      <td>15500</td>\n",
       "      <td>3.4</td>\n",
       "      <td>9</td>\n",
       "      <td>False</td>\n",
       "    </tr>\n",
       "    <tr>\n",
       "      <th>6</th>\n",
       "      <td>Needle</td>\n",
       "      <td>12250</td>\n",
       "      <td>2.4</td>\n",
       "      <td>2</td>\n",
       "      <td>False</td>\n",
       "    </tr>\n",
       "    <tr>\n",
       "      <th>7</th>\n",
       "      <td>El AyMeDuele</td>\n",
       "      <td>23000</td>\n",
       "      <td>8.8</td>\n",
       "      <td>10</td>\n",
       "      <td>True</td>\n",
       "    </tr>\n",
       "  </tbody>\n",
       "</table>\n",
       "</div>"
      ],
      "text/plain": [
       "                nombre  precio  peso  capacidad de destrucción retinal  \\\n",
       "1           Pokemaster   10000   1.2                                 3   \n",
       "2             Cegatron    5500   1.5                                 7   \n",
       "3         Pikame Mucho    3500   2.3                                 6   \n",
       "4  Lazarillo de Tormes     750   5.5                                 8   \n",
       "5        Stevie Wonder   15500   3.4                                 9   \n",
       "6               Needle   12250   2.4                                 2   \n",
       "7         El AyMeDuele   23000   8.8                                10   \n",
       "\n",
       "   disponible  \n",
       "1        True  \n",
       "2       False  \n",
       "3        True  \n",
       "4        True  \n",
       "5       False  \n",
       "6       False  \n",
       "7        True  "
      ]
     },
     "execution_count": 5,
     "metadata": {},
     "output_type": "execute_result"
    }
   ],
   "source": [
    "df_productos"
   ]
  },
  {
   "cell_type": "markdown",
   "metadata": {},
   "source": [
    "Ahora, indexa tu `DataFrame` para obtener los subconjuntos requeridos. Los productos en existencia tienen un orden específico en la base de datos. El orden correcto es el que está definido en `datos_productos`. Eso significa que el \"Pokemaster\" tiene el índice `1` y es el *primer* producto; y el \"El AyMeDuele\" tiene el ìndice `7` y es el *último* producto.\n",
    "\n",
    "Realiza las indexaciones debajo. Recuerda ordenar tus `DataFrames` en el orden en el que los menciona el Analista:"
   ]
  },
  {
   "cell_type": "code",
   "execution_count": null,
   "metadata": {},
   "outputs": [],
   "source": [
    "# Quiero un DataFrame que contenga los productos \"Pikame Mucho\" y \"Stevie Wonder\"\n",
    "pm_sw =\n",
    "\n",
    "# Quiero un DataFrame que contenga desde el producto #4 hasta el último\n",
    "p4_final =\n",
    "\n",
    "# Quiero un DataFrame que contenga los productos \"El AyMeDuele\", \"Lazarillo de Tormes\" y \"Needle\"\n",
    "amd_lt_n =\n",
    "\n",
    "# Quiero un DataFrame que contenga desde el primer producto hasta el producto #5\n",
    "primer_p5 =\n",
    "\n",
    "# Quiero un DataFrame que contenga los productos \"Pikame Mucho\" y \"Lazarillo de Tormes\", pero sólo con las columnas \"nombre\", \"precio\" y \"peso\"\n",
    "pm_lt_pp =\n",
    "\n",
    "# Quiero un DataFrame que contenga todos los productos pero con sólo las columnas 'nombre', 'precio' y 'capacidad de destrucción retinal'\n",
    "t_pcdr =\n",
    "\n",
    "# Quiero un DataFrame que contenga desde el producto #3 hasta el #6, pero sólo las columnas 'nombre', 'precio' y 'disponible'\n",
    "p3_p6_pd ="
   ]
  },
  {
   "cell_type": "code",
   "execution_count": 6,
   "metadata": {},
   "outputs": [],
   "source": [
    "# Quiero un DataFrame que contenga los productos \"Pikame Mucho\" y \"Stevie Wonder\"\n",
    "pm_sw = df_productos[df_productos['nombre'].isin([\"Pikame Mucho\", \"Stevie Wonder\"])]\n",
    "\n",
    "# Quiero un DataFrame que contenga desde el producto #4 hasta el último\n",
    "p4_final = df_productos.loc[4:]\n",
    "\n",
    "# Quiero un DataFrame que contenga los productos \"El AyMeDuele\", \"Lazarillo de Tormes\" y \"Needle\"\n",
    "amd_lt_n = df_productos[df_productos['nombre'].isin([\"El AyMeDuele\", \"Lazarillo de Tormes\", \"Needle\"])]\n",
    "\n",
    "# Quiero un DataFrame que contenga desde el primer producto hasta el producto #5\n",
    "primer_p5 = df_productos.loc[:5]\n",
    "\n",
    "# Quiero un DataFrame que contenga los productos \"Pikame Mucho\" y \"Lazarillo de Tormes\", pero sólo con las columnas \"nombre\", \"precio\" y \"peso\"\n",
    "pm_lt_pp = df_productos[df_productos['nombre'].isin([\"Pikame Mucho\", \"Lazarillo de Tormes\"])][[\"nombre\", \"precio\", \"peso\"]]\n",
    "\n",
    "# Quiero un DataFrame que contenga todos los productos pero con sólo las columnas 'nombre', 'precio' y 'capacidad de destrucción retinal'\n",
    "t_pcdr = df_productos[[\"nombre\", \"precio\", \"capacidad de destrucción retinal\"]]\n",
    "\n",
    "# Quiero un DataFrame que contenga desde el producto #3 hasta el #6, pero sólo las columnas 'nombre', 'precio' y 'disponible'\n",
    "p3_p6_pd = df_productos.loc[3:6, [\"nombre\", \"precio\", \"disponible\"]]\n",
    "\n"
   ]
  },
  {
   "cell_type": "markdown",
   "metadata": {},
   "source": [
    "Pídele a tu experta la función de verificación `verificar_indexaciones` (encontrada en el archivo `helpers.py` de la carpeta donde se encuentra este Reto), pégala debajo y corre la celda para verificar tu resultado:"
   ]
  },
  {
   "cell_type": "code",
   "execution_count": 10,
   "metadata": {},
   "outputs": [],
   "source": [
    "def verificar_indexaciones(datos_productos, indice, df_productos, pm_sw, p4_final, amd_lt_n, primer_p5, pm_lt_pp, t_pcdr, p3_p6_pd):\n",
    "    expected_df_productos = pd.DataFrame(datos_productos, index=indice)\n",
    "    \n",
    "    assert df_productos.equals(expected_df_productos), \"El DataFrame df_productos no es correcto\"\n",
    "    assert pm_sw.equals(df_productos.loc[[3, 5]]), \"Error en pm_sw\"\n",
    "    assert p4_final.equals(df_productos.loc[4:]), \"Error en p4_final\"\n",
    "    assert amd_lt_n.equals(df_productos.loc[[7, 4, 6]]), \"Error en amd_lt_n\"\n",
    "    assert primer_p5.equals(df_productos.loc[1:5]), \"Error en primer_p5\"\n",
    "    assert pm_lt_pp.equals(df_productos.loc[[3, 4], [\"nombre\", \"precio\", \"peso\"]]), \"Error en pm_lt_pp\"\n",
    "    assert t_pcdr.equals(df_productos.loc[:, [\"nombre\", \"precio\", \"capacidad de destrucción retinal\"]]), \"Error en t_pcdr\"\n",
    "    assert p3_p6_pd.equals(df_productos.loc[3:6, [\"nombre\", \"precio\", \"disponible\"]]), \"Error en p3_p6_pd\"\n",
    "    print(\"¡Todas las indexaciones son correctas!\")\n"
   ]
  },
  {
   "cell_type": "code",
   "execution_count": 11,
   "metadata": {},
   "outputs": [
    {
     "ename": "AssertionError",
     "evalue": "Error en amd_lt_n",
     "output_type": "error",
     "traceback": [
      "\u001b[1;31m---------------------------------------------------------------------------\u001b[0m",
      "\u001b[1;31mAssertionError\u001b[0m                            Traceback (most recent call last)",
      "Cell \u001b[1;32mIn[11], line 3\u001b[0m\n\u001b[0;32m      1\u001b[0m \u001b[38;5;66;03m# Pega aquí la función de verificación\u001b[39;00m\n\u001b[1;32m----> 3\u001b[0m \u001b[43mverificar_indexaciones\u001b[49m\u001b[43m(\u001b[49m\u001b[43mdatos_productos\u001b[49m\u001b[43m,\u001b[49m\u001b[43m \u001b[49m\u001b[43mindice\u001b[49m\u001b[43m,\u001b[49m\u001b[43m \u001b[49m\u001b[43mdf_productos\u001b[49m\u001b[43m,\u001b[49m\u001b[43m \u001b[49m\u001b[43mpm_sw\u001b[49m\u001b[43m,\u001b[49m\u001b[43m \u001b[49m\u001b[43mp4_final\u001b[49m\u001b[43m,\u001b[49m\u001b[43m \u001b[49m\u001b[43mamd_lt_n\u001b[49m\u001b[43m,\u001b[49m\u001b[43m \u001b[49m\u001b[43mprimer_p5\u001b[49m\u001b[43m,\u001b[49m\u001b[43m \u001b[49m\u001b[43mpm_lt_pp\u001b[49m\u001b[43m,\u001b[49m\u001b[43m \u001b[49m\u001b[43mt_pcdr\u001b[49m\u001b[43m,\u001b[49m\u001b[43m \u001b[49m\u001b[43mp3_p6_pd\u001b[49m\u001b[43m)\u001b[49m\n",
      "Cell \u001b[1;32mIn[10], line 7\u001b[0m, in \u001b[0;36mverificar_indexaciones\u001b[1;34m(datos_productos, indice, df_productos, pm_sw, p4_final, amd_lt_n, primer_p5, pm_lt_pp, t_pcdr, p3_p6_pd)\u001b[0m\n\u001b[0;32m      5\u001b[0m \u001b[38;5;28;01massert\u001b[39;00m pm_sw\u001b[38;5;241m.\u001b[39mequals(df_productos\u001b[38;5;241m.\u001b[39mloc[[\u001b[38;5;241m3\u001b[39m, \u001b[38;5;241m5\u001b[39m]]), \u001b[38;5;124m\"\u001b[39m\u001b[38;5;124mError en pm_sw\u001b[39m\u001b[38;5;124m\"\u001b[39m\n\u001b[0;32m      6\u001b[0m \u001b[38;5;28;01massert\u001b[39;00m p4_final\u001b[38;5;241m.\u001b[39mequals(df_productos\u001b[38;5;241m.\u001b[39mloc[\u001b[38;5;241m4\u001b[39m:]), \u001b[38;5;124m\"\u001b[39m\u001b[38;5;124mError en p4_final\u001b[39m\u001b[38;5;124m\"\u001b[39m\n\u001b[1;32m----> 7\u001b[0m \u001b[38;5;28;01massert\u001b[39;00m amd_lt_n\u001b[38;5;241m.\u001b[39mequals(df_productos\u001b[38;5;241m.\u001b[39mloc[[\u001b[38;5;241m7\u001b[39m, \u001b[38;5;241m4\u001b[39m, \u001b[38;5;241m6\u001b[39m]]), \u001b[38;5;124m\"\u001b[39m\u001b[38;5;124mError en amd_lt_n\u001b[39m\u001b[38;5;124m\"\u001b[39m\n\u001b[0;32m      8\u001b[0m \u001b[38;5;28;01massert\u001b[39;00m primer_p5\u001b[38;5;241m.\u001b[39mequals(df_productos\u001b[38;5;241m.\u001b[39mloc[\u001b[38;5;241m1\u001b[39m:\u001b[38;5;241m5\u001b[39m]), \u001b[38;5;124m\"\u001b[39m\u001b[38;5;124mError en primer_p5\u001b[39m\u001b[38;5;124m\"\u001b[39m\n\u001b[0;32m      9\u001b[0m \u001b[38;5;28;01massert\u001b[39;00m pm_lt_pp\u001b[38;5;241m.\u001b[39mequals(df_productos\u001b[38;5;241m.\u001b[39mloc[[\u001b[38;5;241m3\u001b[39m, \u001b[38;5;241m4\u001b[39m], [\u001b[38;5;124m\"\u001b[39m\u001b[38;5;124mnombre\u001b[39m\u001b[38;5;124m\"\u001b[39m, \u001b[38;5;124m\"\u001b[39m\u001b[38;5;124mprecio\u001b[39m\u001b[38;5;124m\"\u001b[39m, \u001b[38;5;124m\"\u001b[39m\u001b[38;5;124mpeso\u001b[39m\u001b[38;5;124m\"\u001b[39m]]), \u001b[38;5;124m\"\u001b[39m\u001b[38;5;124mError en pm_lt_pp\u001b[39m\u001b[38;5;124m\"\u001b[39m\n",
      "\u001b[1;31mAssertionError\u001b[0m: Error en amd_lt_n"
     ]
    }
   ],
   "source": [
    "# Pega aquí la función de verificación\n",
    "\n",
    "verificar_indexaciones(datos_productos, indice, df_productos, pm_sw, p4_final, amd_lt_n, primer_p5, pm_lt_pp, t_pcdr, p3_p6_pd)"
   ]
  }
 ],
 "metadata": {
  "kernelspec": {
   "display_name": "Python 3",
   "language": "python",
   "name": "python3"
  },
  "language_info": {
   "codemirror_mode": {
    "name": "ipython",
    "version": 3
   },
   "file_extension": ".py",
   "mimetype": "text/x-python",
   "name": "python",
   "nbconvert_exporter": "python",
   "pygments_lexer": "ipython3",
   "version": "3.12.3"
  }
 },
 "nbformat": 4,
 "nbformat_minor": 4
}
