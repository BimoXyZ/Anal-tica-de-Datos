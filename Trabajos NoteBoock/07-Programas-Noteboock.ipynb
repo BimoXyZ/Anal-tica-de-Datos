{
 "cells": [
  {
   "cell_type": "markdown",
   "metadata": {},
   "source": [
    "# Diccionarios\n",
    "\n",
    "El diccionario es otro tipo de estructura de datos de Python. No es una secuencia (pero puede adaptarse fácilmente a un procesamiento secuencial) y además es mutable.\n",
    "\n",
    "Para explicar lo que es un diccionario en Python, es importante comprender de manera literal lo que es un diccionario."
   ]
  },
  {
   "cell_type": "markdown",
   "metadata": {},
   "source": [
    "## ¿Cómo crear un diccionario?\n",
    "\n",
    "Si deseas asignar algunos pares iniciales a un diccionario, utiliza la siguiente sintaxis:"
   ]
  },
  {
   "cell_type": "code",
   "execution_count": 1,
   "metadata": {},
   "outputs": [
    {
     "name": "stdout",
     "output_type": "stream",
     "text": [
      "{'gato': 'Morris', 'perro': 'Firulais', 'caballo': 'Sindi'}\n",
      "{'jefe': 553455676, 'Suzy': '135425214'}\n",
      "{}\n"
     ]
    }
   ],
   "source": [
    "diccionario = { \"gato\": \"Morris\", \"perro\": \"Firulais\", \"caballo\": \"Sindi\" }\n",
    "telefonos = { 'jefe': 553455676, 'Suzy': '135425214'}\n",
    "diccionario_vacio = {}\n",
    "\n",
    "\n",
    "print(diccionario)\n",
    "print(telefonos)\n",
    "print(diccionario_vacio)"
   ]
  },
  {
   "cell_type": "markdown",
   "metadata": {},
   "source": [
    "## ¿Cómo Utilizar un Diccionario"
   ]
  },
  {
   "cell_type": "code",
   "execution_count": 5,
   "metadata": {},
   "outputs": [],
   "source": [
    "diccionario = { \"gato\": \"Morris\", \"perro\": \"Firulais\", \"caballo\": \"Sindi\" }\n",
    "telefonos = { 'jefe': 553455676, 'Suzy': '135425214'}"
   ]
  },
  {
   "cell_type": "code",
   "execution_count": 6,
   "metadata": {},
   "outputs": [
    {
     "name": "stdout",
     "output_type": "stream",
     "text": [
      "Morris\n",
      "135425214\n"
     ]
    }
   ],
   "source": [
    "print(diccionario[\"gato\"])\n",
    "print(telefonos['Suzy'])"
   ]
  },
  {
   "cell_type": "code",
   "execution_count": 14,
   "metadata": {},
   "outputs": [
    {
     "name": "stdout",
     "output_type": "stream",
     "text": [
      "gato No Esta en el Diccionario\n",
      "león No Esta en el Diccionario\n",
      "caballo->cheval\n"
     ]
    }
   ],
   "source": [
    "diccionary = {\"cat\": \"gato\", \"perro\": \"chien\", \"caballo\": \"cheval\"}\n",
    "words = ['gato', 'león', 'caballo']\n",
    "\n",
    "for word in words:\n",
    "    if word in diccionary:\n",
    "        print(word + \"->\" + diccionary[word])\n",
    "    else:\n",
    "        print( word, \"No Esta en el Diccionario\")"
   ]
  },
  {
   "cell_type": "markdown",
   "metadata": {},
   "source": [
    "## Metodos y Funciones de los Diccionarios"
   ]
  },
  {
   "cell_type": "markdown",
   "metadata": {},
   "source": [
    "### El método keys()\n",
    "\n",
    "¿Pueden los diccionarios ser examinados utilizando el bucle for, como las listas o tuplas?\n",
    "\n",
    "No y si.\n",
    "\n",
    "No, porque un diccionario no es un tipo de dato secuencial - el bucle for no es útil aquí.\n",
    "\n",
    "Si, porque hay herramientas simples y muy efectivas que pueden adaptar cualquier diccionario a los requerimientos del bucle for (en otras palabras, se construye un enlace intermedio entre el diccionario y una entidad secuencial temporal).\n",
    "\n",
    "El primero de ellos es un método denominado keys(), el cual es parte de todo diccionario. El método retorna o regresa una lista de todas las claves dentro del diccionario. Al tener una lista de claves se puede acceder a todo el diccionario de una manera fácil y útil.\n",
    "\n",
    "A continuación se muestra un ejemplo:"
   ]
  },
  {
   "cell_type": "code",
   "execution_count": 18,
   "metadata": {},
   "outputs": [
    {
     "name": "stdout",
     "output_type": "stream",
     "text": [
      "gato -> Giga\n",
      "perro -> Chat\n",
      "caballo -> Cheval\n",
      "burro -> filemon\n"
     ]
    }
   ],
   "source": [
    "dictionary = {'gato': \"Giga\", 'perro': \"Chat\", \"caballo\": 'Cheval', \"burro\": 'filemon'}\n",
    "\n",
    "for key in dictionary.keys():\n",
    "    print(key, '->', dictionary[key])"
   ]
  },
  {
   "cell_type": "code",
   "execution_count": 17,
   "metadata": {},
   "outputs": [
    {
     "data": {
      "text/plain": [
       "'Chat'"
      ]
     },
     "execution_count": 17,
     "metadata": {},
     "output_type": "execute_result"
    }
   ],
   "source": [
    "dictionary[\"perro\"]"
   ]
  },
  {
   "cell_type": "markdown",
   "metadata": {},
   "source": [
    "Otra manera de hacerlo es utilizar el método items(). Este método retorna una lista de tuplas (este es el primer ejemplo en el que las tuplas son mas que un ejemplo de si mismas) donde cada tupla es un par de cada clave con su valor."
   ]
  },
  {
   "cell_type": "code",
   "execution_count": 19,
   "metadata": {},
   "outputs": [
    {
     "name": "stdout",
     "output_type": "stream",
     "text": [
      "gato -> Giga\n",
      "perro -> Chat\n",
      "caballo -> Cheval\n",
      "burro -> filemon\n"
     ]
    }
   ],
   "source": [
    "dicti = {'gato': \"Giga\", 'perro': \"Chat\", \"caballo\": 'Cheval', \"burro\": 'filemon'}\n",
    "\n",
    "for key, valor in dicti.items():\n",
    "    print(key, '->', dictionary[key])"
   ]
  },
  {
   "cell_type": "markdown",
   "metadata": {},
   "source": [
    "### Modificar, agregar y eliminar valores\n",
    "\n",
    "El asignar un nuevo valor a una clave existente es sencillo - debido a que los diccionarios son completamente mutables, no existen obstáculos para modificarlos.\n",
    "\n",
    "Se va a reemplazar el valor \"chat\" por \"minou\", lo cual no es muy adecuado, pero funcionará con nuestro ejemplo.\n",
    "\n",
    "Observa:"
   ]
  },
  {
   "cell_type": "code",
   "execution_count": null,
   "metadata": {},
   "outputs": [],
   "source": [
    "#cambiar el valor\n",
    "dicti =\"gato\" {'gato': \"Giga\", 'perro': \"Chat\", \"caballo\": 'Cheval', \"burro\": 'filemon'}\n",
    "dicti[\"gato\"] = \"Morris\"\n",
    "print(dicti)"
   ]
  },
  {
   "cell_type": "markdown",
   "metadata": {},
   "source": [
    "### La función sorted()\n",
    "\n",
    "¿Deseas que la salida este ordenada? Solo hay que agregar al bucle for lo siguiente:"
   ]
  },
  {
   "cell_type": "code",
   "execution_count": 21,
   "metadata": {},
   "outputs": [
    {
     "name": "stdout",
     "output_type": "stream",
     "text": [
      "[1, 3, 4, 5, 6, 22]\n"
     ]
    }
   ],
   "source": [
    "#Ordenar una lista\n",
    "lista = [4,5,1,22,6,3]\n",
    "lista_ordenada = sorted(lista)\n",
    "print(lista_ordenada)"
   ]
  },
  {
   "cell_type": "code",
   "execution_count": 23,
   "metadata": {},
   "outputs": [
    {
     "name": "stdout",
     "output_type": "stream",
     "text": [
      "[22, 6, 5, 4, 3, 1]\n"
     ]
    }
   ],
   "source": [
    "#Ordenar una lista descendente\n",
    "lista = [4,5,1,22,6,3]\n",
    "lista_ordenada = sorted(lista, reverse = True)\n",
    "print(lista_ordenada)"
   ]
  },
  {
   "cell_type": "code",
   "execution_count": 25,
   "metadata": {},
   "outputs": [
    {
     "name": "stdout",
     "output_type": "stream",
     "text": [
      "Diccionario ordenado por claves  {'cat': 'gato', 'dog': 'perro', 'fish': 'pez', 'horse': 'Caballo'}\n"
     ]
    }
   ],
   "source": [
    "## Ordena por clave pero ordena el key por el value, de forma ascendente\n",
    "dict_nuevo ={\n",
    "    \"cat\": \"gato\",\n",
    "    \"dog\": \"perro\",\n",
    "    \"horse\": \"Caballo\",\n",
    "    \"fish\": \"pez\"\n",
    "}\n",
    "\n",
    "diccionario_ordenado_claves = dict(sorted(dict_nuevo.items(),reverse = False))\n",
    "\n",
    "print(\"Diccionario ordenado por claves \", diccionario_ordenado_claves)"
   ]
  },
  {
   "cell_type": "code",
   "execution_count": 26,
   "metadata": {},
   "outputs": [
    {
     "name": "stdout",
     "output_type": "stream",
     "text": [
      "Diccionario Ordenado por Clave ['cat', 'dog', 'fish', 'horse']\n"
     ]
    }
   ],
   "source": [
    "# Ordenado por clave, pero solo muestra las claves y se ordena ascendentemente\n",
    "\n",
    "claves_ordenadas = sorted(dict_nuevo.keys(), reverse=False)\n",
    "print(\"Diccionario Ordenado por Clave\", claves_ordenadas)"
   ]
  },
  {
   "cell_type": "code",
   "execution_count": 27,
   "metadata": {},
   "outputs": [
    {
     "name": "stdout",
     "output_type": "stream",
     "text": [
      "Diccionario Ordenado por Clave ['horse', 'fish', 'dog', 'cat']\n"
     ]
    }
   ],
   "source": [
    "# Ordenado por clave, pero solo muestra las claves y se ordena descendentemente\n",
    "\n",
    "claves_ordenadas = sorted(dict_nuevo.keys(), reverse=True)\n",
    "print(\"Diccionario Ordenado por Clave\", claves_ordenadas)"
   ]
  },
  {
   "cell_type": "markdown",
   "metadata": {},
   "source": [
    "### Agregando nuevas claves\n",
    "\n",
    "El agregar una nueva clave con su valor a un diccionario es tan simple como cambiar un valor. Solo se tiene que asignar un valor a una nueva clave que no haya existido antes.\n",
    "\n",
    "Nota: este es un comportamiento muy diferente comparado a las listas, las cuales no permiten asignar valores a índices no existentes.\n",
    "\n",
    "A continuación se agrega un par nuevo al diccionario - un poco extraño pero válido:"
   ]
  },
  {
   "cell_type": "code",
   "execution_count": 28,
   "metadata": {},
   "outputs": [
    {
     "name": "stdout",
     "output_type": "stream",
     "text": [
      "{'cat': 'gato', 'dog': 'perro', 'horse': 'Caballo', 'fish': 'pez', 'ping': 'cochino'}\n"
     ]
    }
   ],
   "source": [
    "dict_ingles_espanol ={\n",
    "    \"cat\": \"gato\",\n",
    "    \"dog\": \"perro\",\n",
    "    \"horse\": \"Caballo\",\n",
    "    \"fish\": \"pez\"\n",
    "}\n",
    "\n",
    "dict_ingles_espanol['ping'] = 'cochino'\n",
    "\n",
    "print(dict_ingles_espanol)"
   ]
  },
  {
   "cell_type": "markdown",
   "metadata": {},
   "source": [
    "<span style=\"background-color: orange; border-radius: 5px; padding: 2px 2px; color:black;\">Nota</span>\n",
    "\n",
    "También es posible insertar un elemento al diccionario utilizando el método update(), por ejemplo:"
   ]
  },
  {
   "cell_type": "code",
   "execution_count": 29,
   "metadata": {},
   "outputs": [
    {
     "name": "stdout",
     "output_type": "stream",
     "text": [
      "{'cat': 'gato', 'dog': 'perro', 'horse': 'Caballo', 'fish': 'pez', 'ping': 'cochino', 'Turtwig': 'Inicial'}\n"
     ]
    }
   ],
   "source": [
    "dict_ingles_espanol.update({'Turtwig':'Inicial'})\n",
    "print(dict_ingles_espanol)"
   ]
  },
  {
   "cell_type": "markdown",
   "metadata": {},
   "source": [
    "### Eliminado una clave\n",
    "\n",
    "¿Puedes deducir como eliminar una clave de un diccionario?\n",
    "\n",
    "Nota: al eliminar la clave también se removerá el valor asociado. Los valores no pueden existir sin sus claves.\n",
    "\n",
    "Esto se logra con la instrucción del.\n",
    "\n",
    "A continuación un ejemplo:"
   ]
  },
  {
   "cell_type": "code",
   "execution_count": 31,
   "metadata": {},
   "outputs": [
    {
     "name": "stdout",
     "output_type": "stream",
     "text": [
      "{'dog': 'perro', 'horse': 'caballo', 'fish': 'pez'}\n"
     ]
    }
   ],
   "source": [
    "dict_ingles_espanol ={\n",
    "    \"cat\": \"gato\",\n",
    "    \"dog\": \"perro\",\n",
    "    \"horse\": \"caballo\",\n",
    "    \"fish\": \"pez\"\n",
    "}\n",
    "\n",
    "del dict_ingles_espanol['cat']\n",
    "print(dict_ingles_espanol)"
   ]
  },
  {
   "cell_type": "markdown",
   "metadata": {},
   "source": [
    "Para eliminar el ultimo elemento de la lista, se puede emplear el método popitem():\n"
   ]
  },
  {
   "cell_type": "code",
   "execution_count": null,
   "metadata": {},
   "outputs": [],
   "source": [
    "dict_ingles_espanol.pipitem()\n",
    "print(dict_ingles_espanol)"
   ]
  }
 ],
 "metadata": {
  "kernelspec": {
   "display_name": "Python 3",
   "language": "python",
   "name": "python3"
  },
  "language_info": {
   "codemirror_mode": {
    "name": "ipython",
    "version": 3
   },
   "file_extension": ".py",
   "mimetype": "text/x-python",
   "name": "python",
   "nbconvert_exporter": "python",
   "pygments_lexer": "ipython3",
   "version": "3.12.3"
  }
 },
 "nbformat": 4,
 "nbformat_minor": 2
}
