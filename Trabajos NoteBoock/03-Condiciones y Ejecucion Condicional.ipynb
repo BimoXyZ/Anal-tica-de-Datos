{
 "cells": [
  {
   "cell_type": "markdown",
   "metadata": {},
   "source": [
    "# Condiciones y ejecucion condicional"
   ]
  },
  {
   "cell_type": "markdown",
   "metadata": {},
   "source": [
    "## Ejemplo 1"
   ]
  },
  {
   "cell_type": "markdown",
   "metadata": {},
   "source": [
    "# se leen dos numeros"
   ]
  },
  {
   "cell_type": "code",
   "execution_count": 1,
   "metadata": {},
   "outputs": [],
   "source": [
    "numero1 = int(input(\"ingresa el primer numero\"))\n",
    "numero2 = int(input(\"ingresa el segundo numero\"))"
   ]
  },
  {
   "cell_type": "markdown",
   "metadata": {},
   "source": [
    "# elegir el numero mas grande "
   ]
  },
  {
   "cell_type": "code",
   "execution_count": 3,
   "metadata": {},
   "outputs": [
    {
     "name": "stdout",
     "output_type": "stream",
     "text": [
      "el numero mayor es 20\n"
     ]
    }
   ],
   "source": [
    "numero1 = int(input(\"ingresa el primer numero\"))\n",
    "numero2 = int(input(\"ingresa el segundo numero\"))\n",
    "\n",
    "if numero1 > numero2:\n",
    "    numero_mayor = numero1\n",
    "    print(f'el numero mayor es {numero_mayor}')\n",
    "else:\n",
    "    numero_mayor = numero2\n",
    "    print(f'el numero mayor es {numero_mayor}')"
   ]
  },
  {
   "cell_type": "markdown",
   "metadata": {},
   "source": [
    "## Ejemplo 2\n",
    "Encontrar el numero más grande de tres numero"
   ]
  },
  {
   "cell_type": "code",
   "execution_count": null,
   "metadata": {},
   "outputs": [],
   "source": [
    "# solicitar  tres numeros enteros \n",
    "n1 = int(input('Escribe el primer numero: '))\n",
    "n2 = int(input('Escribe el primer numero: '))\n",
    "n3 = int(input('Escribe el primer numero: '))\n",
    "\n",
    "#Primero determinamos el numero mayor \n",
    "numero_mayor = n1\n",
    "\n",
    "if n2 > numero_mayor:\n",
    "    numero_mayor = n2\n",
    "elif n3 > numero_mayor:\n",
    "    numero_mayor = n3\n",
    "\n",
    "print(f'El numero mayor es {numero_mayor}')"
   ]
  },
  {
   "cell_type": "code",
   "execution_count": null,
   "metadata": {},
   "outputs": [],
   "source": [
    "# solicitar  tres numeros enteros \n",
    "n1 = int(input('Escribe el primer numero: '))\n",
    "n2 = int(input('Escribe el primer numero: '))\n",
    "n3 = int(input('Escribe el primer numero: '))\n",
    "\n",
    "numero_mayor = n1\n",
    "\n",
    "if n2 > numero_mayor:\n",
    "    numero_mayor = n2\n",
    "\n",
    "if n3 > numero_mayor:\n",
    "    numero_mayor = n3\n",
    "\n",
    "print(f'El numero mayor es {numero_mayor}')"
   ]
  },
  {
   "cell_type": "code",
   "execution_count": null,
   "metadata": {},
   "outputs": [],
   "source": [
    "#otro metodo \n",
    "# solicitar  tres numeros enteros \n",
    "n1 = int(input('Escribe el primer numero: '))\n",
    "n2 = int(input('Escribe el primer numero: '))\n",
    "n3 = int(input('Escribe el primer numero: '))\n",
    "\n",
    "#Primero determinamos el numero mayor \n",
    "numero_mayor = n1\n",
    "\n",
    "if n1 > n2 and n1>n3:\n",
    "    numero_mayor = n1\n",
    "elif n2 > n3 and n2 > n3:\n",
    "    numero_mayor = n2\n",
    "else:\n",
    "    numero_mayor = n3 \n",
    "\n",
    "\n",
    "print(f'El numero mayor es {numero_mayor}')"
   ]
  },
  {
   "cell_type": "code",
   "execution_count": null,
   "metadata": {},
   "outputs": [],
   "source": [
    "#tercer metodo\n",
    "# solicitar  tres numeros enteros \n",
    "n1 = int(input('Escribe el primer numero: '))\n",
    "n2 = int(input('Escribe el primer numero: '))\n",
    "n3 = int(input('Escribe el primer numero: '))\n",
    "\n",
    "#Primero determinamos el numero mayor \n",
    "numero_mayor = n1\n",
    "\n",
    "if n2 > numero_mayor:\n",
    "    numero_mayor = n2\n",
    "elif n3 > numero_mayor:\n",
    "    numero_mayor = n3 \n",
    "    \n",
    "print(f'El numero mayor es {numero_mayor}')"
   ]
  },
  {
   "cell_type": "code",
   "execution_count": null,
   "metadata": {},
   "outputs": [],
   "source": [
    "salariop = float(input('Escribe el salario de la persona: '))\n",
    "salarioanteinpuesto = float(input('Escribe el suelo que no debe superar: '))\n"
   ]
  },
  {
   "cell_type": "markdown",
   "metadata": {},
   "source": [
    "# LAB   Fundamentos de la sentencia if-elif-else\n",
    "\n",
    "Como seguramente sabrás, debido a algunas razones astronómicas, el año puede ser bisiesto o común. Los primeros tienen una duración de 366 días, mientras que los últimos tienen una duración de 365 días.\n",
    "\n",
    "Desde la introducción del calendario Gregoriano (en 1582), se utiliza la siguiente regla para determinar el tipo de año:\n",
    "\n",
    "si el número del año no es divisible entre cuatro, es un año común.\n",
    "de lo contrario, si el número del año no es divisible entre 100, es un año bisiesto.\n",
    "de lo contrario, si el número del año no es divisible entre 400, es un año común.\n",
    "de lo contrario, es un año bisiesto.\n",
    "Observa el código en el editor - solo lee un número de año y debe completarse con las instrucciones que implementan la prueba que acabamos de describir.\n",
    "\n",
    "El código debe mostrar uno de los dos mensajes posibles, que son Año Bisiesto o Año Común, según el valor ingresado.\n",
    "\n",
    "Sería bueno verificar si el año ingresado cae en la era Gregoriana y emitir una advertencia de lo contrario: No dentro del período del calendario Gregoriano. Consejo: utiliza los operadores != y %."
   ]
  }
 ],
 "metadata": {
  "kernelspec": {
   "display_name": "Python 3",
   "language": "python",
   "name": "python3"
  },
  "language_info": {
   "codemirror_mode": {
    "name": "ipython",
    "version": 3
   },
   "file_extension": ".py",
   "mimetype": "text/x-python",
   "name": "python",
   "nbconvert_exporter": "python",
   "pygments_lexer": "ipython3",
   "version": "3.12.3"
  }
 },
 "nbformat": 4,
 "nbformat_minor": 2
}
