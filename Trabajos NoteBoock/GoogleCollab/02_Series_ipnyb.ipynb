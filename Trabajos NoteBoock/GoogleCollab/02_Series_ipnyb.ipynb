{
  "nbformat": 4,
  "nbformat_minor": 0,
  "metadata": {
    "colab": {
      "provenance": []
    },
    "kernelspec": {
      "name": "python3",
      "display_name": "Python 3"
    },
    "language_info": {
      "name": "python"
    }
  },
  "cells": [
    {
      "cell_type": "markdown",
      "source": [
        "1. Objetivos:\n",
        "- Entender qué son las `Series`\n",
        "- Aprender a crear `Series` de pandas\n",
        "- Aprender los métodos básicos de indexación de las `Series`\n",
        "\n",
        "___"
      ],
      "metadata": {
        "id": "kIHcRcwLwsQY"
      }
    },
    {
      "cell_type": "markdown",
      "source": [
        "# Desarrollo"
      ],
      "metadata": {
        "id": "i544B2bxw0Ki"
      }
    },
    {
      "cell_type": "code",
      "execution_count": null,
      "metadata": {
        "id": "0R8hhNWuwOQP"
      },
      "outputs": [],
      "source": [
        "import pandas as pd"
      ]
    },
    {
      "cell_type": "markdown",
      "source": [
        "Las Series son secuencias ordenadas de unidimensionales que pueden contener diferentes tipos de valores. En esto se parecen a las listas. De hecho podemos crear `Series` usando `listas`."
      ],
      "metadata": {
        "id": "Rr9Ax8EKw_En"
      }
    },
    {
      "cell_type": "code",
      "source": [
        "serie_1 = pd.Series([3, 7, 9, 8])"
      ],
      "metadata": {
        "id": "Zy8Bed7kxLLU"
      },
      "execution_count": null,
      "outputs": []
    },
    {
      "cell_type": "code",
      "source": [
        "serie_1"
      ],
      "metadata": {
        "colab": {
          "base_uri": "https://localhost:8080/"
        },
        "id": "MhbbTYjNxfO7",
        "outputId": "580e6a90-16f6-4eeb-ab1a-885da8b25e71"
      },
      "execution_count": null,
      "outputs": [
        {
          "output_type": "execute_result",
          "data": {
            "text/plain": [
              "0    3\n",
              "1    7\n",
              "2    9\n",
              "3    8\n",
              "dtype: int64"
            ]
          },
          "metadata": {},
          "execution_count": 3
        }
      ]
    },
    {
      "cell_type": "code",
      "source": [
        "lista = [3, 7, 9, 8]\n",
        "lista"
      ],
      "metadata": {
        "colab": {
          "base_uri": "https://localhost:8080/"
        },
        "id": "OSE-nRR4xpQv",
        "outputId": "0b600e61-4770-4e15-ce33-5fa4fb1cefbe"
      },
      "execution_count": null,
      "outputs": [
        {
          "output_type": "execute_result",
          "data": {
            "text/plain": [
              "[3, 7, 9, 8]"
            ]
          },
          "metadata": {},
          "execution_count": 7
        }
      ]
    },
    {
      "cell_type": "markdown",
      "source": [
        "Una gran diferencia que tienen con las `listas` es que cada elemento en una `Serie` tiene un índice asociado que no necesariamente es una secuencia de enteros como en las `listas`. En este aspecto, nuestras `Series` se parecen a los `diccionarios`:\n"
      ],
      "metadata": {
        "id": "oyGRq7nLx-FY"
      }
    },
    {
      "cell_type": "code",
      "source": [],
      "metadata": {
        "id": "SyMoqsHxx-2T"
      },
      "execution_count": null,
      "outputs": []
    },
    {
      "cell_type": "markdown",
      "source": [
        "La columna de la izquierda es nuestro índice, la columna de la derecha son los datos almacenados en la Serie. El texto en la parte inferior es el tipo de dato que tenemos en nuestra Serie.\n",
        "\n",
        "Los tipos de datos más comunes que podemos encontrar son:\n",
        "\n",
        "1. `int64`: Equivalente a `int`\n",
        "1. `float64`: Equivalente a `float`\n",
        "1. `bool`: Equivalente a `bool` (duh)\n",
        "1. `object`: Equivalente a `str`, o indica que hay una mezcla de tipos de datos numéricos y no-numéricos en la `Serie`\n",
        "\n",
        ">**Importante:** Tener `Series` que contengan diversos tipos de datos es una muy mala práctica. Lo recomendable es siempre tener homogeneidad de tipos de dato en cada `Serie` que tengamos. De todas maneras, se encontrarán por ahí algunos conjuntos de datos que contienen `Series` con tipos de datos diversos. Es por eso que cuando nos topemos con un tipo de dato `obj` tenemos que ser cuidadosos y no asumir automáticamente que el tipo de dato incluido son `strings`.\n",
        "\n",
        "Podemos crear `Series` con un índice customizado:"
      ],
      "metadata": {
        "id": "7JtDLws-yD2I"
      }
    },
    {
      "cell_type": "code",
      "source": [
        "serie_1 = pd.Series([34, 5, 6, 7], index = [10, 11, 12, 13])\n",
        "serie_1"
      ],
      "metadata": {
        "colab": {
          "base_uri": "https://localhost:8080/"
        },
        "id": "2jWYTMT1yybd",
        "outputId": "7350e562-39af-45ac-89f9-5e0f19b6346c"
      },
      "execution_count": null,
      "outputs": [
        {
          "output_type": "execute_result",
          "data": {
            "text/plain": [
              "10    34\n",
              "11     5\n",
              "12     6\n",
              "13     7\n",
              "dtype: int64"
            ]
          },
          "metadata": {},
          "execution_count": 10
        }
      ]
    },
    {
      "cell_type": "markdown",
      "source": [
        "Incluso podemos usar `strings` en el índice:\n"
      ],
      "metadata": {
        "id": "W3yDE5YLzTzm"
      }
    },
    {
      "cell_type": "code",
      "source": [
        "serie_2 = pd.Series(['Juan', 'Roberto', 'Casimiro', 'Regulo', 'Luciano'],\n",
        "                   index = ['A', 'B', 'C', 'D', 'E'])\n",
        "serie_2"
      ],
      "metadata": {
        "colab": {
          "base_uri": "https://localhost:8080/",
          "height": 182
        },
        "id": "1eQD5XkZzU4X",
        "outputId": "1db0c7ac-a940-4da1-cc0c-04773511f4bd"
      },
      "execution_count": null,
      "outputs": [
        {
          "output_type": "error",
          "ename": "NameError",
          "evalue": "name 'pd' is not defined",
          "traceback": [
            "\u001b[0;31m---------------------------------------------------------------------------\u001b[0m",
            "\u001b[0;31mNameError\u001b[0m                                 Traceback (most recent call last)",
            "\u001b[0;32m<ipython-input-5-9031313216d8>\u001b[0m in \u001b[0;36m<cell line: 1>\u001b[0;34m()\u001b[0m\n\u001b[0;32m----> 1\u001b[0;31m serie_2 = pd.Series(['Juan', 'Roberto', 'Casimiro', 'Regulo', 'Luciano'],\n\u001b[0m\u001b[1;32m      2\u001b[0m                    index = ['A', 'B', 'C', 'D', 'E'])\n\u001b[1;32m      3\u001b[0m \u001b[0mserie_2\u001b[0m\u001b[0;34m\u001b[0m\u001b[0;34m\u001b[0m\u001b[0m\n",
            "\u001b[0;31mNameError\u001b[0m: name 'pd' is not defined"
          ]
        }
      ]
    },
    {
      "cell_type": "markdown",
      "source": [
        "Debido a su similitud, podemos incluso crear `Series` usando `diccionarios`:\n"
      ],
      "metadata": {
        "id": "tUQcWfOH0R6_"
      }
    },
    {
      "cell_type": "code",
      "source": [
        "datos = {\n",
        "    'Miguel': 23,\n",
        "    'Luis': 47,\n",
        "    'Diana': 20,\n",
        "    'Eden': 130,\n",
        "    'Jovany': 15\n",
        "}"
      ],
      "metadata": {
        "id": "TC7lG9r60Z7L"
      },
      "execution_count": null,
      "outputs": []
    },
    {
      "cell_type": "code",
      "source": [
        "serie_3 = pd.Series(datos)\n",
        "serie_3"
      ],
      "metadata": {
        "colab": {
          "base_uri": "https://localhost:8080/",
          "height": 164
        },
        "id": "9EK8lNQ41D_m",
        "outputId": "387dc5ce-62fc-4c47-8b62-e5ff52533eea"
      },
      "execution_count": null,
      "outputs": [
        {
          "output_type": "error",
          "ename": "NameError",
          "evalue": "name 'pd' is not defined",
          "traceback": [
            "\u001b[0;31m---------------------------------------------------------------------------\u001b[0m",
            "\u001b[0;31mNameError\u001b[0m                                 Traceback (most recent call last)",
            "\u001b[0;32m<ipython-input-4-b5f20d288191>\u001b[0m in \u001b[0;36m<cell line: 1>\u001b[0;34m()\u001b[0m\n\u001b[0;32m----> 1\u001b[0;31m \u001b[0mserie_3\u001b[0m \u001b[0;34m=\u001b[0m \u001b[0mpd\u001b[0m\u001b[0;34m.\u001b[0m\u001b[0mSeries\u001b[0m\u001b[0;34m(\u001b[0m\u001b[0mdatos\u001b[0m\u001b[0;34m)\u001b[0m\u001b[0;34m\u001b[0m\u001b[0;34m\u001b[0m\u001b[0m\n\u001b[0m\u001b[1;32m      2\u001b[0m \u001b[0mserie_3\u001b[0m\u001b[0;34m\u001b[0m\u001b[0;34m\u001b[0m\u001b[0m\n",
            "\u001b[0;31mNameError\u001b[0m: name 'pd' is not defined"
          ]
        }
      ]
    },
    {
      "cell_type": "markdown",
      "source": [
        "Al igual que en las listas, podemos acceder a nuestros datos usando el `operador de indexación`. La diferencia es que en una `Serie` tenemos que incluir el operador `loc` para indicarle a la `Serie` que estamos accesándola usando los nombres de los índices:"
      ],
      "metadata": {
        "id": "uUjSEZQ1CZon"
      }
    },
    {
      "cell_type": "code",
      "source": [
        "serie_3.loc['Diana']"
      ],
      "metadata": {
        "id": "XyVMhdWPD_tx"
      },
      "execution_count": null,
      "outputs": []
    },
    {
      "cell_type": "code",
      "source": [
        "datos = {\n",
        "    'Miguel':23,\n",
        "    'Luis':47,\n",
        "    'Diana': 20,\n",
        "    'Eden': 130,\n",
        "    'yobanny': 15\n",
        "}"
      ],
      "metadata": {
        "id": "xkwAPr8wGf90"
      },
      "execution_count": null,
      "outputs": []
    },
    {
      "cell_type": "code",
      "source": [],
      "metadata": {
        "id": "8hJEm0b0Ghwi"
      },
      "execution_count": null,
      "outputs": []
    },
    {
      "cell_type": "markdown",
      "source": [
        "¡Vayamos por nuestro primer Reto!"
      ],
      "metadata": {
        "id": "dEetMoZIFSwx"
      }
    },
    {
      "cell_type": "code",
      "source": [
        "ejecutivo_1 = 'Marco P.'\n",
        "ejecutivo_2 = 'Jenny'\n",
        "ejecutivo_3 = 'Britney Baby'\n",
        "ejecutivo_4 = 'Pepe Guardabosques'\n",
        "ejecutivo_5 = 'Lombardo El Destructor'\n",
        "\n",
        "sueldos = pd.Series( [20000, 90000, 560000, 1000, 98570]\n",
        "                      ,index=[ejecutivo_1, ejecutivo_2, ejecutivo_3, ejecutivo_4, ejecutivo_5])"
      ],
      "metadata": {
        "id": "m2DLQut3FGwS"
      },
      "execution_count": null,
      "outputs": []
    }
  ]
}