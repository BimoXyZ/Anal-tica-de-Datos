{
  "nbformat": 4,
  "nbformat_minor": 0,
  "metadata": {
    "colab": {
      "provenance": []
    },
    "kernelspec": {
      "name": "python3",
      "display_name": "Python 3"
    },
    "language_info": {
      "name": "python"
    }
  },
  "cells": [
    {
      "cell_type": "markdown",
      "source": [
        "#  Indexación de Series\n",
        "\n",
        "1. Objetivos:\n",
        "- Aprender métodos avanzados de indexación de `Series`\n",
        "\n",
        "___\n",
        "\n",
        "2. Desarrollo:"
      ],
      "metadata": {
        "id": "zK2eFZsyKtIf"
      }
    },
    {
      "cell_type": "code",
      "source": [
        "import pandas as pd"
      ],
      "metadata": {
        "id": "epEPja5xK4DM"
      },
      "execution_count": null,
      "outputs": []
    },
    {
      "cell_type": "markdown",
      "source": [
        "> Nota: Algunas de las siguientes técnicas también son posibles en `listas`\n",
        "\n",
        "Las `Series` nos permiten muchas más maneras de acceder a sus datos que vuelven a su sistema de indexación sumamente flexible. Veamos algunas de ellas:"
      ],
      "metadata": {
        "id": "KqQn9jiNLOW9"
      }
    },
    {
      "cell_type": "code",
      "execution_count": null,
      "metadata": {
        "colab": {
          "base_uri": "https://localhost:8080/"
        },
        "id": "rFqr4B4AKoKx",
        "outputId": "d1cdc2b7-f2e4-49aa-b407-233eba4ab1d1"
      },
      "outputs": [
        {
          "output_type": "execute_result",
          "data": {
            "text/plain": [
              "0    a\n",
              "1    b\n",
              "2    c\n",
              "3    d\n",
              "4    e\n",
              "5    f\n",
              "6    g\n",
              "7    h\n",
              "8    i\n",
              "dtype: object"
            ]
          },
          "metadata": {},
          "execution_count": 3
        }
      ],
      "source": [
        "serie = pd.Series(['a', 'b', 'c', 'd', 'e', 'f', 'g', 'h', 'i'])\n",
        "serie"
      ]
    },
    {
      "cell_type": "markdown",
      "source": [
        "Podemos pedir más de un elemento al mismo tiempo pasando una lista de índices:\n"
      ],
      "metadata": {
        "id": "YdaZCW-4Lqhx"
      }
    },
    {
      "cell_type": "code",
      "source": [
        "serie.loc[[5, 8,3]]"
      ],
      "metadata": {
        "colab": {
          "base_uri": "https://localhost:8080/"
        },
        "id": "INxrx4DJLrqW",
        "outputId": "e2616a00-311e-4299-8945-a25cf0224e29"
      },
      "execution_count": null,
      "outputs": [
        {
          "output_type": "execute_result",
          "data": {
            "text/plain": [
              "5    f\n",
              "8    i\n",
              "3    d\n",
              "dtype: object"
            ]
          },
          "metadata": {},
          "execution_count": 5
        }
      ]
    },
    {
      "cell_type": "markdown",
      "source": [
        "Los elementos serán regresados en el orden en el que los pedimos:\n"
      ],
      "metadata": {
        "id": "MuCUs4RyMWps"
      }
    },
    {
      "cell_type": "code",
      "source": [
        "serie.loc[[4, 6, 7, 1]]"
      ],
      "metadata": {
        "colab": {
          "base_uri": "https://localhost:8080/"
        },
        "id": "vTxDe6frMTwG",
        "outputId": "a20ffb6b-644e-4168-dcbb-0f3e669cd921"
      },
      "execution_count": null,
      "outputs": [
        {
          "output_type": "execute_result",
          "data": {
            "text/plain": [
              "4    e\n",
              "6    g\n",
              "7    h\n",
              "1    b\n",
              "dtype: object"
            ]
          },
          "metadata": {},
          "execution_count": 6
        }
      ]
    },
    {
      "cell_type": "markdown",
      "source": [
        "Podemos pedir \"desde el principio hasta el índice x\" o \"desde el índice x hasta el final\" de esta manera:"
      ],
      "metadata": {
        "id": "b5F2tpFMMeqZ"
      }
    },
    {
      "cell_type": "code",
      "source": [
        "serie.loc[[0,1,2,3,4]]"
      ],
      "metadata": {
        "colab": {
          "base_uri": "https://localhost:8080/"
        },
        "id": "yq4lUul3MqQ-",
        "outputId": "2eb2952b-ce84-41fa-8789-eff6d40dbc70"
      },
      "execution_count": null,
      "outputs": [
        {
          "output_type": "execute_result",
          "data": {
            "text/plain": [
              "0    a\n",
              "1    b\n",
              "2    c\n",
              "3    d\n",
              "4    e\n",
              "dtype: object"
            ]
          },
          "metadata": {},
          "execution_count": 7
        }
      ]
    },
    {
      "cell_type": "code",
      "source": [
        "serie.loc[:4]"
      ],
      "metadata": {
        "colab": {
          "base_uri": "https://localhost:8080/"
        },
        "id": "RyBuyM5ZMthf",
        "outputId": "ae0f5f4a-d08f-4928-f96b-d5c213d7794b"
      },
      "execution_count": null,
      "outputs": [
        {
          "output_type": "execute_result",
          "data": {
            "text/plain": [
              "0    a\n",
              "1    b\n",
              "2    c\n",
              "3    d\n",
              "4    e\n",
              "dtype: object"
            ]
          },
          "metadata": {},
          "execution_count": 10
        }
      ]
    },
    {
      "cell_type": "code",
      "source": [
        "serie.loc[3:8]"
      ],
      "metadata": {
        "colab": {
          "base_uri": "https://localhost:8080/"
        },
        "id": "qKM4XAbxM6BU",
        "outputId": "ed5e735f-2425-4af9-a06e-9d60f8f93126"
      },
      "execution_count": null,
      "outputs": [
        {
          "output_type": "execute_result",
          "data": {
            "text/plain": [
              "3    d\n",
              "4    e\n",
              "5    f\n",
              "6    g\n",
              "7    h\n",
              "8    i\n",
              "dtype: object"
            ]
          },
          "metadata": {},
          "execution_count": 13
        }
      ]
    },
    {
      "cell_type": "markdown",
      "source": [
        "Podemos pedir incluso rangos:"
      ],
      "metadata": {
        "id": "5wEBzx8RNY_B"
      }
    },
    {
      "cell_type": "code",
      "source": [
        "serie.loc[3:8]"
      ],
      "metadata": {
        "colab": {
          "base_uri": "https://localhost:8080/"
        },
        "id": "btRs4-V7NZ8f",
        "outputId": "ef8fe98f-e405-4d15-a993-24272a60a68a"
      },
      "execution_count": null,
      "outputs": [
        {
          "output_type": "execute_result",
          "data": {
            "text/plain": [
              "3    d\n",
              "4    e\n",
              "5    f\n",
              "6    g\n",
              "7    h\n",
              "8    i\n",
              "dtype: object"
            ]
          },
          "metadata": {},
          "execution_count": 14
        }
      ]
    },
    {
      "cell_type": "markdown",
      "source": [
        "También podemos usar rangos cuando nuestro índice no es numérico:"
      ],
      "metadata": {
        "id": "WL9ikPS4NsMP"
      }
    },
    {
      "cell_type": "code",
      "source": [
        "serie_2 = pd.Series([1,2,3,4,5,6,7,8], index=['1','b','c','d','e','f','g','h'])\n",
        "serie_2"
      ],
      "metadata": {
        "colab": {
          "base_uri": "https://localhost:8080/"
        },
        "id": "3CUecdmSNs8O",
        "outputId": "b5f44b3e-878c-4edd-a8db-3682844faa4f"
      },
      "execution_count": null,
      "outputs": [
        {
          "output_type": "execute_result",
          "data": {
            "text/plain": [
              "1    1\n",
              "b    2\n",
              "c    3\n",
              "d    4\n",
              "e    5\n",
              "f    6\n",
              "g    7\n",
              "h    8\n",
              "dtype: int64"
            ]
          },
          "metadata": {},
          "execution_count": 16
        }
      ]
    },
    {
      "cell_type": "code",
      "source": [
        "serie_2.loc[['c', 'f', 'h']]"
      ],
      "metadata": {
        "colab": {
          "base_uri": "https://localhost:8080/"
        },
        "id": "rvsK3I4jPbL-",
        "outputId": "888d6f73-990b-46b0-92f3-50fcdd3c8efc"
      },
      "execution_count": null,
      "outputs": [
        {
          "output_type": "execute_result",
          "data": {
            "text/plain": [
              "c    3\n",
              "f    6\n",
              "h    8\n",
              "dtype: int64"
            ]
          },
          "metadata": {},
          "execution_count": 18
        }
      ]
    },
    {
      "cell_type": "code",
      "source": [
        "serie_2.loc['d':]"
      ],
      "metadata": {
        "colab": {
          "base_uri": "https://localhost:8080/"
        },
        "id": "mN2fFB7xPorP",
        "outputId": "04ebe959-0bb2-4284-9bc5-88df469e479e"
      },
      "execution_count": null,
      "outputs": [
        {
          "output_type": "execute_result",
          "data": {
            "text/plain": [
              "d    4\n",
              "e    5\n",
              "f    6\n",
              "g    7\n",
              "h    8\n",
              "dtype: int64"
            ]
          },
          "metadata": {},
          "execution_count": 20
        }
      ]
    },
    {
      "cell_type": "code",
      "source": [
        "serie_2.loc['d':'g']"
      ],
      "metadata": {
        "colab": {
          "base_uri": "https://localhost:8080/"
        },
        "id": "tuZs9E1KQD2V",
        "outputId": "2948b480-822c-4264-de6d-21b8027546cb"
      },
      "execution_count": null,
      "outputs": [
        {
          "output_type": "execute_result",
          "data": {
            "text/plain": [
              "d    4\n",
              "e    5\n",
              "f    6\n",
              "g    7\n",
              "dtype: int64"
            ]
          },
          "metadata": {},
          "execution_count": 22
        }
      ]
    },
    {
      "cell_type": "code",
      "source": [
        "import pandas as pd\n",
        "\n",
        "gastos_mensuales = {\n",
        "    'A': 15000,\n",
        "    'B': 200000,\n",
        "    'C': 3250000,\n",
        "    'D': 120000,\n",
        "    'E': 135000,\n",
        "    'F': 55000,\n",
        "    'G': 100000,\n",
        "    'H': 25000\n",
        "}\n",
        "\n",
        "gastos_serie = pd.Series(gastos_mensuales)"
      ],
      "metadata": {
        "id": "BGwkhTsqRLmU"
      },
      "execution_count": null,
      "outputs": []
    },
    {
      "cell_type": "code",
      "source": [
        "gastos_serie"
      ],
      "metadata": {
        "colab": {
          "base_uri": "https://localhost:8080/"
        },
        "id": "LtGsdwJ7ROlm",
        "outputId": "be817ce1-3fa9-465e-eb8b-a7981bf27ec6"
      },
      "execution_count": null,
      "outputs": [
        {
          "output_type": "execute_result",
          "data": {
            "text/plain": [
              "A      15000\n",
              "B     200000\n",
              "C    3250000\n",
              "D     120000\n",
              "E     135000\n",
              "F      55000\n",
              "G     100000\n",
              "H      25000\n",
              "dtype: int64"
            ]
          },
          "metadata": {},
          "execution_count": 24
        }
      ]
    },
    {
      "cell_type": "code",
      "source": [
        "gastos_D_G = gastos_serie.loc[['D','G']]\n",
        "gastos_D_G"
      ],
      "metadata": {
        "colab": {
          "base_uri": "https://localhost:8080/"
        },
        "id": "Wf67Kve7RUuq",
        "outputId": "8bd44ae1-d39a-4158-ff7a-28243ad3fb60"
      },
      "execution_count": null,
      "outputs": [
        {
          "output_type": "execute_result",
          "data": {
            "text/plain": [
              "D    120000\n",
              "G    100000\n",
              "dtype: int64"
            ]
          },
          "metadata": {},
          "execution_count": 32
        }
      ]
    },
    {
      "cell_type": "markdown",
      "source": [],
      "metadata": {
        "id": "kPylJ8jDRuL1"
      }
    },
    {
      "cell_type": "code",
      "source": [
        "gastos_A_E = gastos_serie.loc[['D','G']]\n",
        "gastos_D_G"
      ],
      "metadata": {
        "colab": {
          "base_uri": "https://localhost:8080/"
        },
        "id": "-FlX-cvcRw5A",
        "outputId": "d2be262c-015e-4c0a-f8d5-ef9583513db4"
      },
      "execution_count": null,
      "outputs": [
        {
          "output_type": "execute_result",
          "data": {
            "text/plain": [
              "D    120000\n",
              "G    100000\n",
              "dtype: int64"
            ]
          },
          "metadata": {},
          "execution_count": 33
        }
      ]
    },
    {
      "cell_type": "code",
      "source": [
        "gastos_B_F_H = gastos_serie.loc[['B','F','H']]\n",
        "gastos_B_F_H"
      ],
      "metadata": {
        "colab": {
          "base_uri": "https://localhost:8080/"
        },
        "id": "LjlwlY7xRzML",
        "outputId": "8764036d-68ad-4fe5-92d0-4707642b1038"
      },
      "execution_count": null,
      "outputs": [
        {
          "output_type": "execute_result",
          "data": {
            "text/plain": [
              "B    200000\n",
              "F     55000\n",
              "H     25000\n",
              "dtype: int64"
            ]
          },
          "metadata": {},
          "execution_count": 35
        }
      ]
    },
    {
      "cell_type": "code",
      "source": [
        "gastos_principio_a_E = gastos_serie.loc[:'E']\n",
        "gastos_principio_a_E"
      ],
      "metadata": {
        "colab": {
          "base_uri": "https://localhost:8080/"
        },
        "id": "S6LTppvNR18u",
        "outputId": "a577779a-618f-44fa-ecad-1cb87364703d"
      },
      "execution_count": null,
      "outputs": [
        {
          "output_type": "execute_result",
          "data": {
            "text/plain": [
              "A      15000\n",
              "B     200000\n",
              "C    3250000\n",
              "D     120000\n",
              "E     135000\n",
              "dtype: int64"
            ]
          },
          "metadata": {},
          "execution_count": 36
        }
      ]
    },
    {
      "cell_type": "code",
      "source": [
        "gastos_D_a_G = gastos_serie.loc[['D','G']]\n",
        "gastos_D_a_G"
      ],
      "metadata": {
        "colab": {
          "base_uri": "https://localhost:8080/"
        },
        "id": "fRApWVgcR6sO",
        "outputId": "771e86c5-3627-4bf4-c58a-1c83780b6620"
      },
      "execution_count": null,
      "outputs": [
        {
          "output_type": "execute_result",
          "data": {
            "text/plain": [
              "D    120000\n",
              "G    100000\n",
              "dtype: int64"
            ]
          },
          "metadata": {},
          "execution_count": 37
        }
      ]
    },
    {
      "cell_type": "code",
      "source": [
        "gastos_C_a_final = gastos_serie.loc['C':]\n",
        "gastos_C_a_final"
      ],
      "metadata": {
        "colab": {
          "base_uri": "https://localhost:8080/"
        },
        "id": "pknnN71eR_bl",
        "outputId": "26484a16-4305-478b-cba1-8a81ef042a24"
      },
      "execution_count": null,
      "outputs": [
        {
          "output_type": "execute_result",
          "data": {
            "text/plain": [
              "C    3250000\n",
              "D     120000\n",
              "E     135000\n",
              "F      55000\n",
              "G     100000\n",
              "H      25000\n",
              "dtype: int64"
            ]
          },
          "metadata": {},
          "execution_count": 39
        }
      ]
    }
  ]
}