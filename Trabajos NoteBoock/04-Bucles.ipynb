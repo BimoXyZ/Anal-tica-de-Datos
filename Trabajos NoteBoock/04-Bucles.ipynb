{
 "cells": [
  {
   "cell_type": "markdown",
   "metadata": {},
   "source": [
    "# Bucles en Código While"
   ]
  },
  {
   "cell_type": "markdown",
   "metadata": {},
   "source": [
    "## Bucle o Ciclo Infinito"
   ]
  },
  {
   "cell_type": "code",
   "execution_count": null,
   "metadata": {},
   "outputs": [],
   "source": [
    "while True:\n",
    "    print ('Estoy trabajando en el bucle infinito XD')\n"
   ]
  },
  {
   "cell_type": "code",
   "execution_count": null,
   "metadata": {},
   "outputs": [],
   "source": [
    "i = 0\n",
    "while i<=10:\n",
    "    print (i+1)\n",
    "    #i=i+1\n",
    "    i+=1"
   ]
  },
  {
   "cell_type": "markdown",
   "metadata": {},
   "source": [
    "# Reto\n",
    "\n",
    "Realizar Un Programa Utilizando En Ciclo Anterior, Pero Se Debe Solicitar Al Usuario El Número De Veces Que El Usuario Introducirá Valores Y Debe Contar Cuantos Son Pares Y Cuantos Impares"
   ]
  },
  {
   "cell_type": "code",
   "execution_count": 6,
   "metadata": {},
   "outputs": [
    {
     "name": "stdout",
     "output_type": "stream",
     "text": [
      "Introdusca el Valor\n"
     ]
    }
   ],
   "source": [
    "v = int(input('Introdusca la Cantidad de Valores: '))\n",
    "\n",
    "numero_mayor = v\n",
    "\n",
    "if v <= numero_mayor:\n",
    "    numero_mayor = vars\n",
    "    print(f'Introdusca el Valor')\n",
    "\n",
    "v = 0\n",
    "while i<=10:\n",
    "    print (i+1)\n",
    "    #i=i+1\n",
    "    i+=1"
   ]
  },
  {
   "cell_type": "code",
   "execution_count": 10,
   "metadata": {},
   "outputs": [
    {
     "name": "stdout",
     "output_type": "stream",
     "text": [
      "El Total de Pares es: 7 El Total de Impares es: 4\n"
     ]
    }
   ],
   "source": [
    "Numero_Vueltas = int(input('Introdusca el Numero de Valores a Solicitar'))\n",
    "\n",
    "total_pares = 0\n",
    "total_impares = 0\n",
    "\n",
    "i = 1\n",
    "\n",
    "while i<=Numero_Vueltas:\n",
    "        numero = int(input(f'Introduce el Numero {i}'))\n",
    "\n",
    "        if numero%2 == 0:\n",
    "            total_pares+=1\n",
    "        else:\n",
    "              total_impares+=1\n",
    "\n",
    "              i+=1\n",
    "\n",
    "print(f'El Total de Pares es: {total_pares}') \n",
    "print(f'El Total de Impares es: {total_impares}')"
   ]
  },
  {
   "cell_type": "markdown",
   "metadata": {},
   "source": [
    "# Reto\n",
    "\n",
    "Realizar Un Programa Utilizando En Ciclo Anterior, Pero Se Detendra Cuando el Usuario Introdusca un -1"
   ]
  },
  {
   "cell_type": "code",
   "execution_count": 12,
   "metadata": {},
   "outputs": [
    {
     "name": "stdout",
     "output_type": "stream",
     "text": [
      "El Total de Pares es: 4\n",
      "El Total de Impares es: 1\n"
     ]
    }
   ],
   "source": [
    "Numero_Vueltas = int(input('Introdusca el Numero de Valores a Solicitar'))\n",
    "\n",
    "total_pares = 0\n",
    "total_impares = 0\n",
    "\n",
    "numero = 0\n",
    "\n",
    "while numero!=-1:\n",
    "        numero = int(input(f'Introduce el Numero {i}'))\n",
    "\n",
    "        if numero!=-1:\n",
    "            if numero%2 == 0:\n",
    "                total_pares+=1\n",
    "        else:\n",
    "              total_impares+=1\n",
    "\n",
    "print(f'El Total de Pares es: {total_pares}') \n",
    "print(f'El Total de Impares es: {total_impares}')"
   ]
  },
  {
   "cell_type": "markdown",
   "metadata": {},
   "source": [
    "# Jon"
   ]
  },
  {
   "cell_type": "code",
   "execution_count": null,
   "metadata": {},
   "outputs": [],
   "source": [
    "num_veces = int(input(\"Ingrese el número de veces que desea ingresar valores: \"))\n",
    "\n",
    "\n",
    "pares = 0\n",
    "impares = 0\n",
    "\n",
    "\n",
    "i = 0\n",
    "while i < num_veces:\n",
    "   \n",
    "    valor = int(input(f'Ingrese un valor (i)'))\n",
    "    \n",
    "    \n",
    "    if valor % 2 == 0:\n",
    "        pares += 1\n",
    "    else:\n",
    "        impares += 1\n",
    "    \n",
    "    i += 1\n",
    "\n",
    "\n",
    "print(f'Cantidad de números pares: {pares}')\n",
    "print(f'Cantidad de números impares: {impares}')"
   ]
  },
  {
   "cell_type": "markdown",
   "metadata": {},
   "source": [
    "# Jesus... Creo ＼（〇_ｏ）／"
   ]
  },
  {
   "cell_type": "code",
   "execution_count": null,
   "metadata": {},
   "outputs": [],
   "source": [
    "i= 0\n",
    "cnumeros = int(input('cuantos numeros deseas introducir? '))\n",
    "pares = 0\n",
    "imps = 0\n",
    "\n",
    "while i < cnumeros:\n",
    "    num = int(input(\"intruduce un numero\"))\n",
    "    if num%2 == 0:\n",
    "        pares += 1\n",
    "    else: \n",
    "        imps += 1\n",
    "    i+=1\n",
    "\n",
    "print(f'La cantidad de numero impares es de: {imps}')\n",
    "print(f'La cantidad de numero pares es de: {pares}')"
   ]
  },
  {
   "cell_type": "markdown",
   "metadata": {},
   "source": [
    "# Otro"
   ]
  },
  {
   "cell_type": "code",
   "execution_count": null,
   "metadata": {},
   "outputs": [],
   "source": [
    "i=1\n",
    "while True:\n",
    "    if(i==10):\n",
    "        print(i)\n",
    "        break\n",
    "    print(i)\n",
    "    i+=1"
   ]
  },
  {
   "cell_type": "markdown",
   "metadata": {},
   "source": [
    "# Creo Miguel"
   ]
  },
  {
   "cell_type": "code",
   "execution_count": null,
   "metadata": {},
   "outputs": [],
   "source": [
    "continuar = True\n",
    "pares = 0\n",
    "imps = 0\n",
    "\n",
    "while continuar:\n",
    "    num = int(input(\"intruduce un numero\"))\n",
    "    if num%2 == 0:\n",
    "        pares += 1\n",
    "    if num != -1:\n",
    "        (\"El programa ha sido detenido por el usario\")\n",
    "        continuar = False\n",
    "    else: \n",
    "        imps += 1\n",
    "    i+=1\n",
    "\n",
    "print(f'La cantidad de numero impares es de: {imps}')\n",
    "print(f'La cantidad de numero pares es de: {pares}')"
   ]
  },
  {
   "cell_type": "markdown",
   "metadata": {},
   "source": [
    "# LAB Adibina el Numero Secreto\n",
    "Escenario\n",
    "Un mago junior ha elegido un número secreto. Lo ha escondido en una variable llamada secret_number. Quiere que todos los que ejecutan su programa jueguen el juego Adivina el número secreto, y adivina qué número ha elegido para ellos. ¡Quiénes no adivinen el número quedarán atrapados en un bucle sin fin para siempre! Desafortunadamente, él no sabe cómo completar el código.\n",
    "\n",
    "Tu tarea es ayudar al mago a completar el código en el editor de tal manera que el código:\n",
    "\n",
    "pedirá al usuario que ingrese un número entero;\n",
    "utilizará un bucle while;\n",
    "comprobará si el número ingresado por el usuario es el mismo que el número escogido por el mago. Si el número elegido por el usuario es diferente al número secreto del mago, el usuario debería ver el mensaje \"¡Ja, ja! ¡Estás atrapado en mi bucle!\" y se le solicitará que ingrese un número nuevamente. Si el número ingresado por el usuario coincide con el número escogido por el mago, el número debe imprimirse en la pantalla, y el mago debe decir las siguientes palabras: \"¡Bien hecho, muggle! Eres libre ahora.\"\n",
    "¡El mago está contando contigo! No lo decepciones.\n"
   ]
  },
  {
   "cell_type": "code",
   "execution_count": 9,
   "metadata": {},
   "outputs": [
    {
     "name": "stdout",
     "output_type": "stream",
     "text": [
      "¡Bien hecho, muggle! Eres libre ahora.\n"
     ]
    }
   ],
   "source": [
    "import random \n",
    "\n",
    "bucle_del_mago = True\n",
    "secret_number = random.randint(1,5)\n",
    "while bucle_del_mago:\n",
    "    num = int(input(\"Introduce un numero del 1 al 5 el mago ha escogido uno entre todos ellos, podras atinarle?\"))\n",
    "    if num == secret_number:\n",
    "        print(\"¡Bien hecho, muggle! Eres libre ahora.\")\n",
    "        bucle_del_mago = False\n",
    "    else:\n",
    "        print (\"¡Ja, ja! ¡Estás atrapado en mi bucle!\")"
   ]
  },
  {
   "cell_type": "markdown",
   "metadata": {},
   "source": [
    "# Bucles en tu código con for\n",
    "\n",
    "Otro tipo de bucle disponible en Python proviene de la observación de que a veces es más importante contar los \"giros o vueltas\" del bucle que verificar las condiciones.\n",
    "\n",
    "```python\n",
    "for i in range(100):\n",
    "    # do_something()\n",
    "    pass"
   ]
  },
  {
   "cell_type": "markdown",
   "metadata": {},
   "source": []
  },
  {
   "cell_type": "code",
   "execution_count": 10,
   "metadata": {},
   "outputs": [],
   "source": [
    "for i in range(100):\n",
    "    ## hacer_algo\n",
    "    pass"
   ]
  },
  {
   "cell_type": "code",
   "execution_count": 11,
   "metadata": {},
   "outputs": [],
   "source": [
    "if True:\n",
    "    ## hacer_algo\n",
    "    pass"
   ]
  },
  {
   "cell_type": "code",
   "execution_count": 14,
   "metadata": {},
   "outputs": [
    {
     "name": "stdout",
     "output_type": "stream",
     "text": [
      "el valor de i es:  0\n",
      "el valor de i es:  1\n",
      "el valor de i es:  2\n",
      "el valor de i es:  3\n",
      "el valor de i es:  4\n",
      "el valor de i es:  5\n",
      "el valor de i es:  6\n",
      "el valor de i es:  7\n",
      "el valor de i es:  8\n",
      "el valor de i es:  9\n"
     ]
    }
   ],
   "source": [
    "for i in range(10):\n",
    "    print('el valor de i es: ', i)\n"
   ]
  },
  {
   "cell_type": "markdown",
   "metadata": {},
   "source": [
    "Nota:\n",
    "\n",
    "El bucle se ha ejecutado diez veces (es el argumento de la función range())\n",
    "El valor de la última variable de control es 9 (no 10, ya que comienza desde 0 , no desde 1)"
   ]
  },
  {
   "cell_type": "code",
   "execution_count": 15,
   "metadata": {},
   "outputs": [
    {
     "name": "stdout",
     "output_type": "stream",
     "text": [
      "El valor de item es de:  2\n",
      "El valor de item es de:  3\n",
      "El valor de item es de:  4\n",
      "El valor de item es de:  5\n",
      "El valor de item es de:  6\n",
      "El valor de item es de:  7\n"
     ]
    }
   ],
   "source": [
    "for item in range(2,8):\n",
    "    print('El valor de item es de: ', item)"
   ]
  },
  {
   "cell_type": "markdown",
   "metadata": {},
   "source": [
    "En este caso, el primer argumento determina el valor inicial (primero) de la variable de control.\n",
    "\n",
    "El último argumento muestra el primer valor que no se asignará a la variable de control.\n",
    "\n",
    "Nota: la función range() solo acepta enteros como argumentos y genera secuencias de enteros.\n",
    "\n",
    "¿Puedes adivinar la output del programa? Ejecútalo para comprobar si ahora también estabas en lo cierto.\n",
    "\n",
    "El primer valor mostrado es 2 (tomado del primer argumento de range()).\n",
    "\n",
    "El último es 7 (aunque el segundo argumento de range() es 8)."
   ]
  },
  {
   "cell_type": "code",
   "execution_count": 16,
   "metadata": {},
   "outputs": [
    {
     "name": "stdout",
     "output_type": "stream",
     "text": [
      "El valor de x es:  2\n",
      "El valor de x es:  5\n"
     ]
    }
   ],
   "source": [
    "for x in range(2,8,3):\n",
    "    print('El valor de x es: ', x)"
   ]
  },
  {
   "cell_type": "markdown",
   "metadata": {},
   "source": [
    "# LAB   Fundamentos del bucle for – contando lentamente (mississippily)\n",
    "\n",
    "Tu tarea es muy simple aquí: escribe un programa que use un bucle for para \"contar de forma mississippi\" hasta cinco. Habiendo contado hasta cinco, el programa debería imprimir en la pantalla el mensaje final \"¡Listos o no, ahí voy!\"\n",
    "\n",
    "Utiliza el esqueleto que hemos proporcionado en el editor.\n"
   ]
  },
  {
   "cell_type": "code",
   "execution_count": 19,
   "metadata": {},
   "outputs": [
    {
     "name": "stdout",
     "output_type": "stream",
     "text": [
      "Mississippi:  1\n",
      "Mississippi:  2\n",
      "Mississippi:  3\n",
      "Mississippi:  4\n",
      "Mississippi:  5\n",
      "¡Listos o no, ahí voy!\n"
     ]
    }
   ],
   "source": [
    "import time\n",
    "\n",
    "# Escribe un bucle for que cuente hasta cinco.\n",
    "    # Cuerpo del bucle: imprime el número de iteración del bucle y la palabra \"Mississippi\".\n",
    "    # Cuerpo del bucle, emplea : time.sleep(1)\n",
    "# Escribe una función print con el mensaje final.\n",
    "\n",
    "for x in range(1,6):\n",
    "    print('Mississippi: ', x)\n",
    "    time.sleep(1)\n",
    "print(\"¡Listos o no, ahí voy!\")"
   ]
  },
  {
   "cell_type": "markdown",
   "metadata": {},
   "source": [
    "# Las sentencias break y continue\n",
    "\n",
    "Estas dos instrucciones son:\n",
    "\n",
    "1. break - sale del bucle inmediatamente, e incondicionalmente termina la operación del bucle; el programa comienza a ejecutar la instrucción más cercana después del cuerpo del bucle.\n",
    "1. continue - se comporta como si el programa hubiera llegado repentinamente al final del cuerpo; el siguiente turno se inicia y la expresión de condición se prueba de inmediato."
   ]
  },
  {
   "cell_type": "code",
   "execution_count": 21,
   "metadata": {},
   "outputs": [
    {
     "name": "stdout",
     "output_type": "stream",
     "text": [
      "el valor de i es igual a :  0\n",
      "el valor de i es igual a :  1\n",
      "el valor de i es igual a :  2\n",
      "el valor de i es igual a :  3\n",
      "el valor de i es igual a :  4\n"
     ]
    }
   ],
   "source": [
    "for i in range(1000):\n",
    "    if i == 5:\n",
    "        break;\n",
    "    print('el valor de i es igual a : ', i) "
   ]
  },
  {
   "cell_type": "code",
   "execution_count": 23,
   "metadata": {},
   "outputs": [
    {
     "name": "stdout",
     "output_type": "stream",
     "text": [
      "La instruccion break\n",
      "Dentro del bucle.  1\n",
      "Dentro del bucle.  2\n",
      "fuera de bucle. \n"
     ]
    }
   ],
   "source": [
    "print('La instruccion break')\n",
    "for i in range(1,6):\n",
    "    if i == 3:\n",
    "        break\n",
    "    print('Dentro del bucle. ', i)\n",
    "print('fuera de bucle. ')"
   ]
  },
  {
   "cell_type": "code",
   "execution_count": 24,
   "metadata": {},
   "outputs": [
    {
     "name": "stdout",
     "output_type": "stream",
     "text": [
      "La instruccion continue\n",
      "Dentro del bucle.  1\n",
      "Dentro del bucle.  2\n",
      "Dentro del bucle.  4\n",
      "Dentro del bucle.  5\n",
      "fuera de bucle. \n"
     ]
    }
   ],
   "source": [
    "print('La instruccion continue')\n",
    "for i in range(1,6):\n",
    "    if i == 3:\n",
    "        continue\n",
    "    print('Dentro del bucle. ', i)\n",
    "print('fuera de bucle. ')"
   ]
  }
 ],
 "metadata": {
  "kernelspec": {
   "display_name": "Python 3",
   "language": "python",
   "name": "python3"
  },
  "language_info": {
   "codemirror_mode": {
    "name": "ipython",
    "version": 3
   },
   "file_extension": ".py",
   "mimetype": "text/x-python",
   "name": "python",
   "nbconvert_exporter": "python",
   "pygments_lexer": "ipython3",
   "version": "3.12.3"
  }
 },
 "nbformat": 4,
 "nbformat_minor": 2
}
