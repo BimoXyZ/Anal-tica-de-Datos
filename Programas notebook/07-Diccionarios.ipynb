{
 "cells": [
  {
   "cell_type": "markdown",
   "metadata": {},
   "source": [
    "# Diccionarios\n",
    "\n",
    "El diccionario es otro tipo de estructura de datos de Python. No es una secuencia (pero puede adaptarse fácilmente a un procesamiento secuencial) y además es mutable.\n",
    "\n",
    "Para explicar lo que es un diccionario en Python, es importante comprender de manera literal lo que es un diccionario."
   ]
  },
  {
   "cell_type": "markdown",
   "metadata": {},
   "source": [
    "## ¿Cómo crear un diccionario?\n",
    "\n",
    "Si deseas asignar algunos pares iniciales a un diccionario, utiliza la siguiente sintaxis:"
   ]
  },
  {
   "cell_type": "code",
   "execution_count": null,
   "metadata": {},
   "outputs": [],
   "source": [
    "diccionario ={\"gato\": \"Morris\",\n",
    "\"perro\":\"Firulais\",\n",
    "\"caballo\": \"sindi\"\n",
    "}\n",
    "\n",
    "telefonos ={\n",
    "    'jefe': 233446,\n",
    "    'Sucy': 786709,\n",
    "}\n",
    "diccionario_vacio ="
   ]
  },
  {
   "cell_type": "code",
   "execution_count": 1,
   "metadata": {},
   "outputs": [
    {
     "ename": "NameError",
     "evalue": "name 'diccionario' is not defined",
     "output_type": "error",
     "traceback": [
      "\u001b[1;31m---------------------------------------------------------------------------\u001b[0m",
      "\u001b[1;31mNameError\u001b[0m                                 Traceback (most recent call last)",
      "Cell \u001b[1;32mIn[1], line 1\u001b[0m\n\u001b[1;32m----> 1\u001b[0m \u001b[38;5;28mprint\u001b[39m(\u001b[43mdiccionario\u001b[49m)\n\u001b[0;32m      2\u001b[0m \u001b[38;5;28mprint\u001b[39m(telefonos)\n\u001b[0;32m      3\u001b[0m \u001b[38;5;28mprint\u001b[39m(diccionario_vacio)\n",
      "\u001b[1;31mNameError\u001b[0m: name 'diccionario' is not defined"
     ]
    }
   ],
   "source": [
    "print(diccionario)\n",
    "print(telefonos)\n",
    "print(diccionario_vacio)"
   ]
  },
  {
   "cell_type": "markdown",
   "metadata": {},
   "source": [
    "## ¿Como utilizar un diccionario?"
   ]
  },
  {
   "cell_type": "code",
   "execution_count": 2,
   "metadata": {},
   "outputs": [],
   "source": [
    "diccionario ={\"gato\": \"Morris\",\n",
    "\"perro\":\"Firulais\",\n",
    "\"caballo\": \"sindi\"\n",
    "}\n",
    "\n",
    "telefonos ={\n",
    "    'jefe': 233446,\n",
    "    'Sucy': 786709,\n",
    "}"
   ]
  },
  {
   "cell_type": "code",
   "execution_count": 4,
   "metadata": {},
   "outputs": [
    {
     "name": "stdout",
     "output_type": "stream",
     "text": [
      "Morris\n",
      "786709\n"
     ]
    }
   ],
   "source": [
    "print(diccionario[\"gato\"])\n",
    "print(telefonos[\"Sucy\"])"
   ]
  },
  {
   "cell_type": "code",
   "execution_count": 1,
   "metadata": {},
   "outputs": [
    {
     "name": "stdout",
     "output_type": "stream",
     "text": [
      "cat -> gato\n",
      "perro -> chien\n",
      "caballo -> cheval\n",
      "Burro -> filemon\n"
     ]
    }
   ],
   "source": [
    "dictionary = {\"cat\": \"gato\", \"perro\": \"chien\", \"caballo\": \"cheval\", \"Burro\": \"filemon\"}\n",
    "\n",
    "for key in dictionary.keys():\n",
    "    print(key, \"->\" ,dictionary[key])"
   ]
  },
  {
   "cell_type": "code",
   "execution_count": 3,
   "metadata": {},
   "outputs": [
    {
     "ename": "NameError",
     "evalue": "name 'diccionario' is not defined",
     "output_type": "error",
     "traceback": [
      "\u001b[1;31m---------------------------------------------------------------------------\u001b[0m",
      "\u001b[1;31mNameError\u001b[0m                                 Traceback (most recent call last)",
      "Cell \u001b[1;32mIn[3], line 3\u001b[0m\n\u001b[0;32m      1\u001b[0m dictionary \u001b[38;5;241m=\u001b[39m {\u001b[38;5;124m\"\u001b[39m\u001b[38;5;124mcat\u001b[39m\u001b[38;5;124m\"\u001b[39m: \u001b[38;5;124m\"\u001b[39m\u001b[38;5;124mgato\u001b[39m\u001b[38;5;124m\"\u001b[39m, \u001b[38;5;124m\"\u001b[39m\u001b[38;5;124mperro\u001b[39m\u001b[38;5;124m\"\u001b[39m: \u001b[38;5;124m\"\u001b[39m\u001b[38;5;124mchien\u001b[39m\u001b[38;5;124m\"\u001b[39m, \u001b[38;5;124m\"\u001b[39m\u001b[38;5;124mcaballo\u001b[39m\u001b[38;5;124m\"\u001b[39m: \u001b[38;5;124m\"\u001b[39m\u001b[38;5;124mcheval\u001b[39m\u001b[38;5;124m\"\u001b[39m, \u001b[38;5;124m\"\u001b[39m\u001b[38;5;124mBurro\u001b[39m\u001b[38;5;124m\"\u001b[39m: \u001b[38;5;124m\"\u001b[39m\u001b[38;5;124mfilemon\u001b[39m\u001b[38;5;124m\"\u001b[39m}\n\u001b[1;32m----> 3\u001b[0m \u001b[38;5;28;01mfor\u001b[39;00m key, valor \u001b[38;5;129;01min\u001b[39;00m \u001b[43mdiccionario\u001b[49m\u001b[38;5;241m.\u001b[39mitems():\n\u001b[0;32m      4\u001b[0m     \u001b[38;5;28mprint\u001b[39m(key,\u001b[38;5;124m\"\u001b[39m\u001b[38;5;124m->\u001b[39m\u001b[38;5;124m\"\u001b[39m, valor )\n",
      "\u001b[1;31mNameError\u001b[0m: name 'diccionario' is not defined"
     ]
    }
   ],
   "source": [
    "dictionary = {\"cat\": \"gato\", \"perro\": \"chien\", \"caballo\": \"cheval\", \"Burro\": \"filemon\"}\n",
    "\n",
    "for key, valor in diccionario.items():\n",
    "    print(key,\"->\", valor )"
   ]
  },
  {
   "cell_type": "markdown",
   "metadata": {},
   "source": [
    "### Modificar, agregar y eliminar valores\n",
    "\n",
    "El asignar un nuevo valor a una clave existente es sencillo - debido a que los diccionarios son completamente mutables, no existen obstáculos para modificarlos.\n",
    "\n",
    "Se va a reemplazar el valor \"chat\" por \"minou\", lo cual no es muy adecuado, pero funcionará con nuestro ejemplo.\n",
    "\n",
    "Observa:"
   ]
  },
  {
   "cell_type": "code",
   "execution_count": 4,
   "metadata": {},
   "outputs": [],
   "source": [
    "dicti= {\"cat\": \"gato\", \"perro\": \"chien\", \"caballo\": \"cheval\", \"Burro\": \"filemon\"}"
   ]
  },
  {
   "cell_type": "code",
   "execution_count": 5,
   "metadata": {},
   "outputs": [
    {
     "name": "stdout",
     "output_type": "stream",
     "text": [
      "{'cat': 'minou', 'perro': 'chien', 'caballo': 'cheval', 'Burro': 'filemon'}\n"
     ]
    }
   ],
   "source": [
    "# Cambiar el valor de un aclave en un  diccionario \n",
    "dicti= {\"cat\": \"gato\", \"perro\": \"chien\", \"caballo\": \"cheval\", \"Burro\": \"filemon\"}\n",
    "dicti[\"cat\"] =\"minou\"\n",
    "print (dicti)"
   ]
  },
  {
   "cell_type": "markdown",
   "metadata": {},
   "source": [
    "### La función sorted()\n",
    "\n",
    "¿Deseas que la salida este ordenada? Solo hay que agregar al bucle for lo siguiente:"
   ]
  },
  {
   "cell_type": "code",
   "execution_count": 6,
   "metadata": {},
   "outputs": [
    {
     "name": "stdout",
     "output_type": "stream",
     "text": [
      "[1, 3, 4, 5, 6, 23]\n"
     ]
    }
   ],
   "source": [
    "liosta =[4,5,1,23,6,3]\n",
    "lista_ordenada = sorted(liosta)\n",
    "print(lista_ordenada)"
   ]
  },
  {
   "cell_type": "code",
   "execution_count": 7,
   "metadata": {},
   "outputs": [
    {
     "name": "stdout",
     "output_type": "stream",
     "text": [
      "[23, 6, 5, 4, 3, 1]\n"
     ]
    }
   ],
   "source": [
    "liosta =[4,5,1,23,6,3]\n",
    "lista_ordenada = sorted(liosta, reverse=True)\n",
    "print(lista_ordenada)"
   ]
  },
  {
   "cell_type": "code",
   "execution_count": 8,
   "metadata": {},
   "outputs": [
    {
     "name": "stdout",
     "output_type": "stream",
     "text": [
      "Diccionario ordenado por claves  {'cat': 'gato', 'dog': 'Perro', 'fish': 'pez', 'horse': 'caballo'}\n"
     ]
    }
   ],
   "source": [
    "#Ordena por clave pero guarda tanto el key como el value, de forma ascendente \n",
    "dict_nuevo ={\n",
    "\"cat\":\"gato\",\n",
    "\"dog\":\"Perro\",\n",
    "\"horse\":\"caballo\",\n",
    "\"fish\":\"pez\"\n",
    "}\n",
    "diccionario_ordenado_claves =dict(sorted(dict_nuevo.items(),reverse=False))\n",
    "print(\"Diccionario ordenado por claves \", diccionario_ordenado_claves)"
   ]
  },
  {
   "cell_type": "code",
   "execution_count": 10,
   "metadata": {},
   "outputs": [
    {
     "name": "stdout",
     "output_type": "stream",
     "text": [
      "Diccionario ordenado por clave  ['cat', 'dog', 'fish', 'horse']\n"
     ]
    }
   ],
   "source": [
    "# Ordena por clave, pero solo muestra por claves \n",
    "claves_ordenadas = sorted(dict_nuevo.keys(),reverse=False)\n",
    "print(\"Diccionario ordenado por clave \", claves_ordenadas)"
   ]
  },
  {
   "cell_type": "code",
   "execution_count": 11,
   "metadata": {},
   "outputs": [
    {
     "name": "stdout",
     "output_type": "stream",
     "text": [
      "Diccionario ordenado por clave  ['horse', 'fish', 'dog', 'cat']\n"
     ]
    }
   ],
   "source": [
    "# Ordena por clave, pero solo muestra por claves \n",
    "claves_ordenadas = sorted(dict_nuevo.keys(),reverse=True)\n",
    "print(\"Diccionario ordenado por clave \", claves_ordenadas)"
   ]
  },
  {
   "cell_type": "markdown",
   "metadata": {},
   "source": [
    "### Agregando nuevas claves\n",
    "\n",
    "El agregar una nueva clave con su valor a un diccionario es tan simple como cambiar un valor. Solo se tiene que asignar un valor a una nueva clave que no haya existido antes.\n",
    "\n",
    "Nota: este es un comportamiento muy diferente comparado a las listas, las cuales no permiten asignar valores a índices no existentes.\n",
    "\n",
    "A continuación se agrega un par nuevo al diccionario - un poco extraño pero válido:"
   ]
  },
  {
   "cell_type": "code",
   "execution_count": 12,
   "metadata": {},
   "outputs": [
    {
     "name": "stdout",
     "output_type": "stream",
     "text": [
      "{'cat': 'gato', 'dog': 'Perro', 'horse': 'caballo', 'fish': 'pez', 'pig': 'cochino'}\n"
     ]
    }
   ],
   "source": [
    "dict_ingles_espanol ={\n",
    "\"cat\":\"gato\",\n",
    "\"dog\":\"Perro\",\n",
    "\"horse\":\"caballo\",\n",
    "\"fish\":\"pez\"\n",
    "}\n",
    "dict_ingles_espanol['pig']= 'cochino'\n",
    "print(dict_ingles_espanol)"
   ]
  },
  {
   "cell_type": "markdown",
   "metadata": {},
   "source": [
    "<span style=\"background-color: orange; border-radius: 5px; padding: 2px 2px; color:black;\">Nota</span>\n",
    "\n",
    "También es posible insertar un elemento al diccionario utilizando el método update(), por ejemplo:"
   ]
  },
  {
   "cell_type": "code",
   "execution_count": 13,
   "metadata": {},
   "outputs": [
    {
     "name": "stdout",
     "output_type": "stream",
     "text": [
      "{'cat': 'gato', 'dog': 'Perro', 'horse': 'caballo', 'fish': 'pez', 'pig': 'cochino', 'turkey': 'Totol'}\n"
     ]
    }
   ],
   "source": [
    "dict_ingles_espanol.update({'turkey':'Totol'})\n",
    "print(dict_ingles_espanol)"
   ]
  },
  {
   "cell_type": "markdown",
   "metadata": {},
   "source": [
    "### Eliminado una clave\n",
    "\n",
    "¿Puedes deducir como eliminar una clave de un diccionario?\n",
    "\n",
    "Nota: al eliminar la clave también se removerá el valor asociado. Los valores no pueden existir sin sus claves.\n",
    "\n",
    "Esto se logra con la instrucción del.\n",
    "\n",
    "A continuación un ejemplo:"
   ]
  },
  {
   "cell_type": "code",
   "execution_count": 14,
   "metadata": {},
   "outputs": [
    {
     "name": "stdout",
     "output_type": "stream",
     "text": [
      "{'dog': 'Perro', 'horse': 'caballo', 'fish': 'pez'}\n"
     ]
    }
   ],
   "source": [
    "dict_ingles_espanol ={\n",
    " \"cat\":\"gato\",\n",
    "\"dog\":\"Perro\",\n",
    "\"horse\":\"caballo\",\n",
    "\"fish\":\"pez\"   \n",
    "}\n",
    "del dict_ingles_espanol[\"cat\"]\n",
    "print(dict_ingles_espanol)"
   ]
  },
  {
   "cell_type": "code",
   "execution_count": 15,
   "metadata": {},
   "outputs": [
    {
     "name": "stdout",
     "output_type": "stream",
     "text": [
      "{'dog': 'Perro', 'horse': 'caballo'}\n"
     ]
    }
   ],
   "source": [
    "dict_ingles_espanol.popitem()\n",
    "print(dict_ingles_espanol)"
   ]
  }
 ],
 "metadata": {
  "kernelspec": {
   "display_name": "Python 3",
   "language": "python",
   "name": "python3"
  },
  "language_info": {
   "codemirror_mode": {
    "name": "ipython",
    "version": 3
   },
   "file_extension": ".py",
   "mimetype": "text/x-python",
   "name": "python",
   "nbconvert_exporter": "python",
   "pygments_lexer": "ipython3",
   "version": "3.12.3"
  }
 },
 "nbformat": 4,
 "nbformat_minor": 2
}
