{
 "cells": [
  {
   "cell_type": "markdown",
   "metadata": {},
   "source": [
    "# Diccionarios\n",
    "\n",
    "El diccionario es otro tipo de estructura de datos de Python. No es una secuencia (pero puede adaptarse fácilmente a un procesamiento secuencial) y además es mutable.\n",
    "\n",
    "Para explicar lo que es un diccionario en Python, es importante comprender de manera literal lo que es un diccionario."
   ]
  },
  {
   "cell_type": "markdown",
   "metadata": {},
   "source": [
    "## ¿Cómo crear un diccionario?\n",
    "\n",
    "Si deseas asignar algunos pares iniciales a un diccionario, utiliza la siguiente sintaxis:"
   ]
  },
  {
   "cell_type": "code",
   "execution_count": null,
   "metadata": {},
   "outputs": [],
   "source": [
    "diccionario ={\"gato\": \"Morris\",\n",
    "\"perro\":\"Firulais\",\n",
    "\"caballo\": \"sindi\"\n",
    "}\n",
    "\n",
    "telefonos ={\n",
    "    'jefe': 233446,\n",
    "    'Sucy': 786709,\n",
    "}\n",
    "diccionario_vacio ="
   ]
  },
  {
   "cell_type": "code",
   "execution_count": 1,
   "metadata": {},
   "outputs": [
    {
     "ename": "NameError",
     "evalue": "name 'diccionario' is not defined",
     "output_type": "error",
     "traceback": [
      "\u001b[1;31m---------------------------------------------------------------------------\u001b[0m",
      "\u001b[1;31mNameError\u001b[0m                                 Traceback (most recent call last)",
      "Cell \u001b[1;32mIn[1], line 1\u001b[0m\n\u001b[1;32m----> 1\u001b[0m \u001b[38;5;28mprint\u001b[39m(\u001b[43mdiccionario\u001b[49m)\n\u001b[0;32m      2\u001b[0m \u001b[38;5;28mprint\u001b[39m(telefonos)\n\u001b[0;32m      3\u001b[0m \u001b[38;5;28mprint\u001b[39m(diccionario_vacio)\n",
      "\u001b[1;31mNameError\u001b[0m: name 'diccionario' is not defined"
     ]
    }
   ],
   "source": [
    "print(diccionario)\n",
    "print(telefonos)\n",
    "print(diccionario_vacio)"
   ]
  },
  {
   "cell_type": "markdown",
   "metadata": {},
   "source": [
    "## ¿Como utilizar un diccionario?"
   ]
  },
  {
   "cell_type": "code",
   "execution_count": 2,
   "metadata": {},
   "outputs": [],
   "source": [
    "diccionario ={\"gato\": \"Morris\",\n",
    "\"perro\":\"Firulais\",\n",
    "\"caballo\": \"sindi\"\n",
    "}\n",
    "\n",
    "telefonos ={\n",
    "    'jefe': 233446,\n",
    "    'Sucy': 786709,\n",
    "}"
   ]
  },
  {
   "cell_type": "code",
   "execution_count": 4,
   "metadata": {},
   "outputs": [
    {
     "name": "stdout",
     "output_type": "stream",
     "text": [
      "Morris\n",
      "786709\n"
     ]
    }
   ],
   "source": [
    "print(diccionario[\"gato\"])\n",
    "print(telefonos[\"Sucy\"])"
   ]
  },
  {
   "cell_type": "code",
   "execution_count": 1,
   "metadata": {},
   "outputs": [
    {
     "name": "stdout",
     "output_type": "stream",
     "text": [
      "cat -> gato\n",
      "perro -> chien\n",
      "caballo -> cheval\n",
      "Burro -> filemon\n"
     ]
    }
   ],
   "source": [
    "dictionary = {\"cat\": \"gato\", \"perro\": \"chien\", \"caballo\": \"cheval\", \"Burro\": \"filemon\"}\n",
    "\n",
    "for key in dictionary.keys():\n",
    "    print(key, \"->\" ,dictionary[key])"
   ]
  },
  {
   "cell_type": "code",
   "execution_count": 3,
   "metadata": {},
   "outputs": [
    {
     "ename": "NameError",
     "evalue": "name 'diccionario' is not defined",
     "output_type": "error",
     "traceback": [
      "\u001b[1;31m---------------------------------------------------------------------------\u001b[0m",
      "\u001b[1;31mNameError\u001b[0m                                 Traceback (most recent call last)",
      "Cell \u001b[1;32mIn[3], line 3\u001b[0m\n\u001b[0;32m      1\u001b[0m dictionary \u001b[38;5;241m=\u001b[39m {\u001b[38;5;124m\"\u001b[39m\u001b[38;5;124mcat\u001b[39m\u001b[38;5;124m\"\u001b[39m: \u001b[38;5;124m\"\u001b[39m\u001b[38;5;124mgato\u001b[39m\u001b[38;5;124m\"\u001b[39m, \u001b[38;5;124m\"\u001b[39m\u001b[38;5;124mperro\u001b[39m\u001b[38;5;124m\"\u001b[39m: \u001b[38;5;124m\"\u001b[39m\u001b[38;5;124mchien\u001b[39m\u001b[38;5;124m\"\u001b[39m, \u001b[38;5;124m\"\u001b[39m\u001b[38;5;124mcaballo\u001b[39m\u001b[38;5;124m\"\u001b[39m: \u001b[38;5;124m\"\u001b[39m\u001b[38;5;124mcheval\u001b[39m\u001b[38;5;124m\"\u001b[39m, \u001b[38;5;124m\"\u001b[39m\u001b[38;5;124mBurro\u001b[39m\u001b[38;5;124m\"\u001b[39m: \u001b[38;5;124m\"\u001b[39m\u001b[38;5;124mfilemon\u001b[39m\u001b[38;5;124m\"\u001b[39m}\n\u001b[1;32m----> 3\u001b[0m \u001b[38;5;28;01mfor\u001b[39;00m key, valor \u001b[38;5;129;01min\u001b[39;00m \u001b[43mdiccionario\u001b[49m\u001b[38;5;241m.\u001b[39mitems():\n\u001b[0;32m      4\u001b[0m     \u001b[38;5;28mprint\u001b[39m(key,\u001b[38;5;124m\"\u001b[39m\u001b[38;5;124m->\u001b[39m\u001b[38;5;124m\"\u001b[39m, valor )\n",
      "\u001b[1;31mNameError\u001b[0m: name 'diccionario' is not defined"
     ]
    }
   ],
   "source": [
    "dictionary = {\"cat\": \"gato\", \"perro\": \"chien\", \"caballo\": \"cheval\", \"Burro\": \"filemon\"}\n",
    "\n",
    "for key, valor in diccionario.items():\n",
    "    print(key,\"->\", valor )"
   ]
  },
  {
   "cell_type": "markdown",
   "metadata": {},
   "source": [
    "### Modificar, agregar y eliminar valores\n",
    "\n",
    "El asignar un nuevo valor a una clave existente es sencillo - debido a que los diccionarios son completamente mutables, no existen obstáculos para modificarlos.\n",
    "\n",
    "Se va a reemplazar el valor \"chat\" por \"minou\", lo cual no es muy adecuado, pero funcionará con nuestro ejemplo.\n",
    "\n",
    "Observa:"
   ]
  },
  {
   "cell_type": "code",
   "execution_count": 4,
   "metadata": {},
   "outputs": [],
   "source": [
    "dicti= {\"cat\": \"gato\", \"perro\": \"chien\", \"caballo\": \"cheval\", \"Burro\": \"filemon\"}"
   ]
  },
  {
   "cell_type": "code",
   "execution_count": 5,
   "metadata": {},
   "outputs": [
    {
     "name": "stdout",
     "output_type": "stream",
     "text": [
      "{'cat': 'minou', 'perro': 'chien', 'caballo': 'cheval', 'Burro': 'filemon'}\n"
     ]
    }
   ],
   "source": [
    "# Cambiar el valor de un aclave en un  diccionario \n",
    "dicti= {\"cat\": \"gato\", \"perro\": \"chien\", \"caballo\": \"cheval\", \"Burro\": \"filemon\"}\n",
    "dicti[\"cat\"] =\"minou\"\n",
    "print (dicti)"
   ]
  },
  {
   "cell_type": "markdown",
   "metadata": {},
   "source": [
    "### La función sorted()\n",
    "\n",
    "¿Deseas que la salida este ordenada? Solo hay que agregar al bucle for lo siguiente:"
   ]
  },
  {
   "cell_type": "code",
   "execution_count": 6,
   "metadata": {},
   "outputs": [
    {
     "name": "stdout",
     "output_type": "stream",
     "text": [
      "[1, 3, 4, 5, 6, 23]\n"
     ]
    }
   ],
   "source": [
    "liosta =[4,5,1,23,6,3]\n",
    "lista_ordenada = sorted(liosta)\n",
    "print(lista_ordenada)"
   ]
  },
  {
   "cell_type": "code",
   "execution_count": 7,
   "metadata": {},
   "outputs": [
    {
     "name": "stdout",
     "output_type": "stream",
     "text": [
      "[23, 6, 5, 4, 3, 1]\n"
     ]
    }
   ],
   "source": [
    "liosta =[4,5,1,23,6,3]\n",
    "lista_ordenada = sorted(liosta, reverse=True)\n",
    "print(lista_ordenada)"
   ]
  },
  {
   "cell_type": "code",
   "execution_count": 8,
   "metadata": {},
   "outputs": [
    {
     "name": "stdout",
     "output_type": "stream",
     "text": [
      "Diccionario ordenado por claves  {'cat': 'gato', 'dog': 'Perro', 'fish': 'pez', 'horse': 'caballo'}\n"
     ]
    }
   ],
   "source": [
    "#Ordena por clave pero guarda tanto el key como el value, de forma ascendente \n",
    "dict_nuevo ={\n",
    "\"cat\":\"gato\",\n",
    "\"dog\":\"Perro\",\n",
    "\"horse\":\"caballo\",\n",
    "\"fish\":\"pez\"\n",
    "}\n",
    "diccionario_ordenado_claves =dict(sorted(dict_nuevo.items(),reverse=False))\n",
    "print(\"Diccionario ordenado por claves \", diccionario_ordenado_claves)"
   ]
  },
  {
   "cell_type": "code",
   "execution_count": 10,
   "metadata": {},
   "outputs": [
    {
     "name": "stdout",
     "output_type": "stream",
     "text": [
      "Diccionario ordenado por clave  ['cat', 'dog', 'fish', 'horse']\n"
     ]
    }
   ],
   "source": [
    "# Ordena por clave, pero solo muestra por claves \n",
    "claves_ordenadas = sorted(dict_nuevo.keys(),reverse=False)\n",
    "print(\"Diccionario ordenado por clave \", claves_ordenadas)"
   ]
  }
 ],
 "metadata": {
  "kernelspec": {
   "display_name": "Python 3",
   "language": "python",
   "name": "python3"
  },
  "language_info": {
   "codemirror_mode": {
    "name": "ipython",
    "version": 3
   },
   "file_extension": ".py",
   "mimetype": "text/x-python",
   "name": "python",
   "nbconvert_exporter": "python",
   "pygments_lexer": "ipython3",
   "version": "3.12.3"
  }
 },
 "nbformat": 4,
 "nbformat_minor": 2
}
