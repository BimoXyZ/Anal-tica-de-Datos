{
 "cells": [
  {
   "cell_type": "markdown",
   "metadata": {},
   "source": [
    "# Estimados de Locación\n",
    "\n",
    "## 1. Objetivos:\n",
    "\n",
    "\n",
    "- Aprender a calcular estimados de locación utilizando `pandas`.\n",
    "\n",
    "## 2. Desarrollo:\n",
    "\n",
    "Vamos a utilizar un primer dataset para aprender a calcular estimados de locación usando pandas.\n",
    "\n",
    "El dataset que usaremos en esta sesión contiene información acerca de propiedades que estuvieron (o están) en venta en la ciudad de Melbourne, Australia. El dataset contiene las características físicas de la propiedad, su locación, el tipo de vivienda que es y el precio de la propiedad.\n",
    "\n",
    "Vamos a analizar la variable precio para entender cómo están distribuidos los precios de propiedades en esta ciudad."
   ]
  }
 ],
 "metadata": {
  "kernelspec": {
   "display_name": "Python 3",
   "language": "python",
   "name": "python3"
  },
  "language_info": {
   "name": "python",
   "version": "3.12.3"
  }
 },
 "nbformat": 4,
 "nbformat_minor": 2
}
